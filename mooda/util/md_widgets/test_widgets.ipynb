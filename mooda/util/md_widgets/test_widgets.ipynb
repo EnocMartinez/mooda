{
 "metadata": {
  "language_info": {
   "codemirror_mode": {
    "name": "ipython",
    "version": 3
   },
   "file_extension": ".py",
   "mimetype": "text/x-python",
   "name": "python",
   "nbconvert_exporter": "python",
   "pygments_lexer": "ipython3",
   "version": "3.8.4-final"
  },
  "orig_nbformat": 2,
  "kernelspec": {
   "name": "python3",
   "display_name": "Python 3",
   "language": "python"
  }
 },
 "nbformat": 4,
 "nbformat_minor": 2,
 "cells": [
  {
   "cell_type": "code",
   "execution_count": 2,
   "metadata": {},
   "outputs": [],
   "source": [
    "import mooda as md"
   ]
  },
  {
   "cell_type": "code",
   "execution_count": null,
   "metadata": {},
   "outputs": [],
   "source": [
    "path = r'./docs/examples/data/test_qc.pkl'\n",
    "wf = md.read_pkl(path)\n",
    "gui = md.widget_qc(wf, 'TEMP')\n",
    "gui"
   ]
  },
  {
   "cell_type": "code",
   "execution_count": null,
   "metadata": {},
   "outputs": [],
   "source": [
    "path = r'./docs/examples/data/test_qc.pkl'\n",
    "wf2 = md.read_pkl(path)\n",
    "wf2.qc_replace(parameters=['TEMP'])\n",
    "print(wf2.data.head())"
   ]
  },
  {
   "cell_type": "code",
   "execution_count": null,
   "metadata": {},
   "outputs": [],
   "source": [
    "wf.data.head()"
   ]
  },
  {
   "cell_type": "code",
   "execution_count": 3,
   "metadata": {},
   "outputs": [
    {
     "output_type": "display_data",
     "data": {
      "text/plain": "VBox(children=(HBox(children=(Label(value='User:'), Text(value=''), Label(value='Password:'), Text(value='')))…",
      "application/vnd.jupyter.widget-view+json": {
       "version_major": 2,
       "version_minor": 0,
       "model_id": "40f681874e1942cca7eb020e0de209ae"
      }
     },
     "metadata": {}
    }
   ],
   "source": [
    "wf = md.WaterFrame()\n",
    "gui_emso = md.widget_emso(wf)\n",
    "gui_emso"
   ]
  },
  {
   "cell_type": "code",
   "execution_count": 1,
   "metadata": {},
   "outputs": [
    {
     "output_type": "stream",
     "name": "stdout",
     "text": [
      "<div>\n<style scoped>\n    .dataframe tbody tr th:only-of-type {\n        vertical-align: middle;\n    }\n\n    .dataframe tbody tr th {\n        vertical-align: top;\n    }\n\n    .dataframe thead th {\n        text-align: right;\n    }\n</style>\n<table border=\"1\" class=\"dataframe\">\n  <thead>\n    <tr style=\"text-align: right;\">\n      <th></th>\n    </tr>\n  </thead>\n  <tbody>\n  </tbody>\n</table>\n</div>\n"
     ]
    }
   ],
   "source": [
    "import pandas as pd\n",
    "\n",
    "df = pd.DataFrame()\n",
    "\n",
    "print(df._repr_html_())"
   ]
  },
  {
   "cell_type": "code",
   "execution_count": 1,
   "metadata": {},
   "outputs": [
    {
     "output_type": "execute_result",
     "data": {
      "text/plain": [
       "Memory usage: 3.946 MBytes\n",
       "Parameters:\n",
       "  - TEMP: Water Temperature (degree_Celsius)\n",
       "    - Min value: -1.3666735804724413\n",
       "      - DEPTH: 0\n",
       "      - TIME: 2018-01-28 21:47:00\n",
       "    - Max value: 11.413173544181621\n",
       "      - DEPTH: 0\n",
       "      - TIME: 2018-01-23 06:11:00\n",
       "    - Mean value: 4.999704632781704\n",
       "  - PSAL: Water Salinity (PSU)\n",
       "    - Min value: 2.458814899332914\n",
       "      - DEPTH: 0\n",
       "      - TIME: 2018-01-17 18:05:00\n",
       "    - Max value: 16.67555158984619\n",
       "      - DEPTH: 0\n",
       "      - TIME: 2018-01-04 04:42:00\n",
       "    - Mean value: 9.999575978938548"
      ],
      "text/html": "<div><p>Metadata:</p><ul><li><em>title</em>: Fake dataset to evaluate the Quality Control Tests</li><li><em>parameters</em>: ['TEMP - Water Temperature [degree_Celsius]', 'PSAL - Water Salinity [PSU]']</li></ul><p>Data:</p></div><div>\n<style scoped>\n    .dataframe tbody tr th:only-of-type {\n        vertical-align: middle;\n    }\n\n    .dataframe tbody tr th {\n        vertical-align: top;\n    }\n\n    .dataframe thead th {\n        text-align: right;\n    }\n</style>\n<table border=\"1\" class=\"dataframe\">\n  <thead>\n    <tr style=\"text-align: right;\">\n      <th></th>\n      <th></th>\n      <th>DEPTH_QC</th>\n      <th>TIME_QC</th>\n      <th>TEMP</th>\n      <th>TEMP_QC</th>\n      <th>PSAL</th>\n      <th>PSAL_QC</th>\n    </tr>\n    <tr>\n      <th>DEPTH</th>\n      <th>TIME</th>\n      <th></th>\n      <th></th>\n      <th></th>\n      <th></th>\n      <th></th>\n      <th></th>\n    </tr>\n  </thead>\n  <tbody>\n    <tr>\n      <th rowspan=\"11\" valign=\"top\">0</th>\n      <th>2018-01-01 00:00:00</th>\n      <td>0</td>\n      <td>0</td>\n      <td>4.968031</td>\n      <td>0</td>\n      <td>10.807594</td>\n      <td>0</td>\n    </tr>\n    <tr>\n      <th>2018-01-01 00:01:00</th>\n      <td>0</td>\n      <td>0</td>\n      <td>4.899738</td>\n      <td>0</td>\n      <td>9.977635</td>\n      <td>0</td>\n    </tr>\n    <tr>\n      <th>2018-01-01 00:02:00</th>\n      <td>0</td>\n      <td>0</td>\n      <td>5.050169</td>\n      <td>0</td>\n      <td>10.030676</td>\n      <td>0</td>\n    </tr>\n    <tr>\n      <th>2018-01-01 00:03:00</th>\n      <td>0</td>\n      <td>0</td>\n      <td>4.965994</td>\n      <td>0</td>\n      <td>10.063260</td>\n      <td>0</td>\n    </tr>\n    <tr>\n      <th>2018-01-01 00:04:00</th>\n      <td>0</td>\n      <td>0</td>\n      <td>4.979039</td>\n      <td>0</td>\n      <td>10.003307</td>\n      <td>0</td>\n    </tr>\n    <tr>\n      <th>...</th>\n      <td>...</td>\n      <td>...</td>\n      <td>...</td>\n      <td>...</td>\n      <td>...</td>\n      <td>...</td>\n    </tr>\n    <tr>\n      <th>2018-01-30 23:56:00</th>\n      <td>0</td>\n      <td>0</td>\n      <td>4.946912</td>\n      <td>0</td>\n      <td>9.994986</td>\n      <td>0</td>\n    </tr>\n    <tr>\n      <th>2018-01-30 23:57:00</th>\n      <td>0</td>\n      <td>0</td>\n      <td>5.104453</td>\n      <td>0</td>\n      <td>9.920386</td>\n      <td>0</td>\n    </tr>\n    <tr>\n      <th>2018-01-30 23:58:00</th>\n      <td>0</td>\n      <td>0</td>\n      <td>4.988564</td>\n      <td>0</td>\n      <td>9.938196</td>\n      <td>0</td>\n    </tr>\n    <tr>\n      <th>2018-01-30 23:59:00</th>\n      <td>0</td>\n      <td>0</td>\n      <td>4.958780</td>\n      <td>0</td>\n      <td>10.128390</td>\n      <td>0</td>\n    </tr>\n    <tr>\n      <th>2018-01-31 00:00:00</th>\n      <td>0</td>\n      <td>0</td>\n      <td>5.033144</td>\n      <td>0</td>\n      <td>9.904120</td>\n      <td>0</td>\n    </tr>\n  </tbody>\n</table>\n<p>43201 rows × 6 columns</p>\n</div>"
     },
     "metadata": {},
     "execution_count": 1
    }
   ],
   "source": [
    "import mooda as md\n",
    "path = r'./docs/examples/data/test_qc.pkl'\n",
    "wf = md.read_pkl(path)\n",
    "wf"
   ]
  },
  {
   "cell_type": "code",
   "execution_count": 4,
   "metadata": {},
   "outputs": [
    {
     "output_type": "execute_result",
     "data": {
      "text/plain": [
       "                           DEPTH_QC  TIME_QC      TEMP  TEMP_QC       PSAL  \\\n",
       "DEPTH TIME                                                                   \n",
       "0     2018-01-01 00:00:00         0        0  4.968031        0  10.807594   \n",
       "      2018-01-01 00:01:00         0        0  4.899738        0   9.977635   \n",
       "      2018-01-01 00:02:00         0        0  5.050169        0  10.030676   \n",
       "      2018-01-01 00:03:00         0        0  4.965994        0  10.063260   \n",
       "      2018-01-01 00:04:00         0        0  4.979039        0  10.003307   \n",
       "...                             ...      ...       ...      ...        ...   \n",
       "      2018-01-30 23:56:00         0        0  4.946912        0   9.994986   \n",
       "      2018-01-30 23:57:00         0        0  5.104453        0   9.920386   \n",
       "      2018-01-30 23:58:00         0        0  4.988564        0   9.938196   \n",
       "      2018-01-30 23:59:00         0        0  4.958780        0  10.128390   \n",
       "      2018-01-31 00:00:00         0        0  5.033144        0   9.904120   \n",
       "\n",
       "                           PSAL_QC  \n",
       "DEPTH TIME                          \n",
       "0     2018-01-01 00:00:00        0  \n",
       "      2018-01-01 00:01:00        0  \n",
       "      2018-01-01 00:02:00        0  \n",
       "      2018-01-01 00:03:00        0  \n",
       "      2018-01-01 00:04:00        0  \n",
       "...                            ...  \n",
       "      2018-01-30 23:56:00        0  \n",
       "      2018-01-30 23:57:00        0  \n",
       "      2018-01-30 23:58:00        0  \n",
       "      2018-01-30 23:59:00        0  \n",
       "      2018-01-31 00:00:00        0  \n",
       "\n",
       "[43201 rows x 6 columns]"
      ],
      "text/html": "<div>\n<style scoped>\n    .dataframe tbody tr th:only-of-type {\n        vertical-align: middle;\n    }\n\n    .dataframe tbody tr th {\n        vertical-align: top;\n    }\n\n    .dataframe thead th {\n        text-align: right;\n    }\n</style>\n<table border=\"1\" class=\"dataframe\">\n  <thead>\n    <tr style=\"text-align: right;\">\n      <th></th>\n      <th></th>\n      <th>DEPTH_QC</th>\n      <th>TIME_QC</th>\n      <th>TEMP</th>\n      <th>TEMP_QC</th>\n      <th>PSAL</th>\n      <th>PSAL_QC</th>\n    </tr>\n    <tr>\n      <th>DEPTH</th>\n      <th>TIME</th>\n      <th></th>\n      <th></th>\n      <th></th>\n      <th></th>\n      <th></th>\n      <th></th>\n    </tr>\n  </thead>\n  <tbody>\n    <tr>\n      <th rowspan=\"11\" valign=\"top\">0</th>\n      <th>2018-01-01 00:00:00</th>\n      <td>0</td>\n      <td>0</td>\n      <td>4.968031</td>\n      <td>0</td>\n      <td>10.807594</td>\n      <td>0</td>\n    </tr>\n    <tr>\n      <th>2018-01-01 00:01:00</th>\n      <td>0</td>\n      <td>0</td>\n      <td>4.899738</td>\n      <td>0</td>\n      <td>9.977635</td>\n      <td>0</td>\n    </tr>\n    <tr>\n      <th>2018-01-01 00:02:00</th>\n      <td>0</td>\n      <td>0</td>\n      <td>5.050169</td>\n      <td>0</td>\n      <td>10.030676</td>\n      <td>0</td>\n    </tr>\n    <tr>\n      <th>2018-01-01 00:03:00</th>\n      <td>0</td>\n      <td>0</td>\n      <td>4.965994</td>\n      <td>0</td>\n      <td>10.063260</td>\n      <td>0</td>\n    </tr>\n    <tr>\n      <th>2018-01-01 00:04:00</th>\n      <td>0</td>\n      <td>0</td>\n      <td>4.979039</td>\n      <td>0</td>\n      <td>10.003307</td>\n      <td>0</td>\n    </tr>\n    <tr>\n      <th>...</th>\n      <td>...</td>\n      <td>...</td>\n      <td>...</td>\n      <td>...</td>\n      <td>...</td>\n      <td>...</td>\n    </tr>\n    <tr>\n      <th>2018-01-30 23:56:00</th>\n      <td>0</td>\n      <td>0</td>\n      <td>4.946912</td>\n      <td>0</td>\n      <td>9.994986</td>\n      <td>0</td>\n    </tr>\n    <tr>\n      <th>2018-01-30 23:57:00</th>\n      <td>0</td>\n      <td>0</td>\n      <td>5.104453</td>\n      <td>0</td>\n      <td>9.920386</td>\n      <td>0</td>\n    </tr>\n    <tr>\n      <th>2018-01-30 23:58:00</th>\n      <td>0</td>\n      <td>0</td>\n      <td>4.988564</td>\n      <td>0</td>\n      <td>9.938196</td>\n      <td>0</td>\n    </tr>\n    <tr>\n      <th>2018-01-30 23:59:00</th>\n      <td>0</td>\n      <td>0</td>\n      <td>4.958780</td>\n      <td>0</td>\n      <td>10.128390</td>\n      <td>0</td>\n    </tr>\n    <tr>\n      <th>2018-01-31 00:00:00</th>\n      <td>0</td>\n      <td>0</td>\n      <td>5.033144</td>\n      <td>0</td>\n      <td>9.904120</td>\n      <td>0</td>\n    </tr>\n  </tbody>\n</table>\n<p>43201 rows × 6 columns</p>\n</div>"
     },
     "metadata": {},
     "execution_count": 4
    }
   ],
   "source": [
    "wf.data"
   ]
  },
  {
   "cell_type": "code",
   "execution_count": null,
   "metadata": {},
   "outputs": [],
   "source": []
  }
 ]
}