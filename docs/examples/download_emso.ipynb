{
 "cells": [
  {
   "cell_type": "markdown",
   "metadata": {},
   "source": [
    "# Download data from EMSO"
   ]
  },
  {
   "cell_type": "markdown",
   "metadata": {},
   "source": [
    "This is a short example of how to download data from EMSO observatories with the EGIM class.\n",
    "\n",
    "We import as follows:"
   ]
  },
  {
   "cell_type": "code",
   "execution_count": 1,
   "metadata": {},
   "outputs": [],
   "source": [
    "from mooda.access import EGIM"
   ]
  },
  {
   "cell_type": "markdown",
   "metadata": {},
   "source": [
    "## Object creation"
   ]
  },
  {
   "cell_type": "markdown",
   "metadata": {},
   "source": [
    "The object EGIM contains the functions to interact with the EMSO Data Management Portal (DMP) and save the downloaded data in different formats.\n",
    "\n",
    "Creating a [EGIM](https://github.com/rbardaji/mooda/blob/master/docs/api_reference/access/egim/__init__.md) by passing your login and password of the EMSO DMP."
   ]
  },
  {
   "cell_type": "code",
   "execution_count": 2,
   "metadata": {},
   "outputs": [
    {
     "data": {
      "text/plain": [
       "<mooda.access.egim.EGIM at 0x23c5a7c5320>"
      ]
     },
     "execution_count": 2,
     "metadata": {},
     "output_type": "execute_result"
    }
   ],
   "source": [
    "egim = EGIM(\"emsodev\", \"Emsodev2017\")\n",
    "egim"
   ]
  },
  {
   "cell_type": "markdown",
   "metadata": {},
   "source": [
    "## Download data from the EMSO DMP "
   ]
  },
  {
   "cell_type": "markdown",
   "metadata": {},
   "source": [
    "Requesting  for the list of available [observatories](https://github.com/rbardaji/mooda/blob/master/docs/api_reference/access/egim/obsevatories.md) of the EMSO DMP."
   ]
  },
  {
   "cell_type": "code",
   "execution_count": 3,
   "metadata": {},
   "outputs": [
    {
     "name": "stdout",
     "output_type": "stream",
     "text": [
      "EMSODEV-EGIM-node00001\n"
     ]
    }
   ],
   "source": [
    "status_code, observatories = egim.observatories()\n",
    "if status_code == 200:\n",
    "    # If the status code is 200, the request has succeeded.\n",
    "    print(*observatories, sep=\"\\n\")\n",
    "else:\n",
    "    print(\"Status code:\", status_code)"
   ]
  },
  {
   "cell_type": "markdown",
   "metadata": {},
   "source": [
    "We only have one observatory available, the EMSODEV-EGIM-node00001.\n",
    "\n",
    "Requesting  for the list of available [instruments](https://github.com/rbardaji/mooda/blob/master/docs/api_reference/access/egim/instruments.md) of a selected observatory."
   ]
  },
  {
   "cell_type": "code",
   "execution_count": 4,
   "metadata": {},
   "outputs": [
    {
     "name": "stdout",
     "output_type": "stream",
     "text": [
      "0e5f248e-9e90-465f-91a0-f674b1d4eb3a - Ifremer G390401\n",
      "37-14998 - SBE37-SIP-P7000-RS232\n",
      "4381-606 - AADI-3005214831 DW4831\n",
      "NTURTD-648 - WETlabs ECO NTUrtd\n",
      "SBE54-0049 - SBE54 Tsunami meter\n",
      "Workhorse_ADCP_21582 - TELEDYNE RDI Workhorse monitor\n",
      "icListen-1636 - OceanSonics icListen SB60L-ETH\n"
     ]
    }
   ],
   "source": [
    "# Select the observatory\n",
    "observatory = \"EMSODEV-EGIM-node00001\"\n",
    "# Request for the instruments\n",
    "status_code, instruments = egim.instruments(observatory)\n",
    "if status_code == 200:\n",
    "    # If the status code is 200, the request has succeeded\n",
    "    for instrunent in instruments:\n",
    "        print(f\"{instrunent['name']} - {instrunent['sensorLongName']}\")\n",
    "else:\n",
    "    print(\"Status code:\", status_code)"
   ]
  },
  {
   "cell_type": "markdown",
   "metadata": {},
   "source": [
    "Requesting for the [metadata](https://github.com/rbardaji/mooda/blob/master/docs/api_reference/access/egim/metadata.md) of a selected instrument and observatory."
   ]
  },
  {
   "cell_type": "code",
   "execution_count": 5,
   "metadata": {},
   "outputs": [
    {
     "name": "stdout",
     "output_type": "stream",
     "text": [
      "EGIMLocation: OBSEA_test_site\n",
      "EGIMNodeURL: http://www.upc.edu/cdsarti/OBSEA/SWE/files/EGIM_status.xml\n",
      "SOSOfferingID: SBE37_data\n",
      "SOSProcedureID: 37-14998\n",
      "SpatialSamplingPointID: sbe37_data\n",
      "SpatialSamplingPointName: SBE37\n",
      "EGIMPosition: 41.1819,1.7527\n",
      "EGIMPositionSRSName: http://www.opengis.net/def/crs/EPSG/0/4326\n",
      "OMResultType: measurement\n",
      "EGIMNode: EMSODEV:EGIM:node00001\n",
      "OMObservationType: http://www.opengis.net/def/observationType/OGC-OM/2.0/OM_ComplexObservation\n",
      "SpatialSamplingPointIdentifier: SBE37_data\n",
      "OMSpatialSamplingPointNameType: http://www.opengis.net/def/samplingFeatureType/OGC-OM/2.0/SF_SamplingPoint\n"
     ]
    }
   ],
   "source": [
    "# Select the instrument\n",
    "instrument = '37-14998' # The CTD SBE37\n",
    "# Request for the metadata\n",
    "status_code, metadata = egim.metadata(observatory, instrument)\n",
    "if status_code == 200:\n",
    "    # If the status code is 200, the request has succeeded\n",
    "    for key, value in metadata.items():\n",
    "        print(f\"{key}: {value}\")\n",
    "else:\n",
    "    print(\"Status code:\", status_code)"
   ]
  },
  {
   "cell_type": "markdown",
   "metadata": {},
   "source": [
    "Requesting for the list of available [parameters](https://github.com/rbardaji/mooda/blob/master/docs/api_reference/access/egim/parameters.md) of a selected instrument and observatory."
   ]
  },
  {
   "cell_type": "code",
   "execution_count": 6,
   "metadata": {},
   "outputs": [
    {
     "name": "stdout",
     "output_type": "stream",
     "text": [
      "salinity\n",
      "depth\n",
      "conductivity\n",
      "sea_water_temperature\n",
      "sound_velocity\n"
     ]
    }
   ],
   "source": [
    "status_code, parameters = egim.parameters(observatory, instrument)\n",
    "if status_code == 200:\n",
    "    # If the status code is 200, the request has succeeded\n",
    "    print(*[parameter['name'] for parameter in parameters], sep=\"\\n\")\n",
    "else:\n",
    "    print(\"Status code:\", code)"
   ]
  },
  {
   "cell_type": "markdown",
   "metadata": {},
   "source": [
    "Requeting for the [observation](https://github.com/rbardaji/mooda/blob/master/docs/api_reference/access/egim/instruments.md) (the measurements) of a selected parameter, instrument and observatory, during a time interval."
   ]
  },
  {
   "cell_type": "code",
   "execution_count": 7,
   "metadata": {},
   "outputs": [
    {
     "name": "stdout",
     "output_type": "stream",
     "text": [
      "                     sea_water_temperature\n",
      "TIME                                      \n",
      "2017-02-01 14:10:34                13.1436\n",
      "2017-02-01 14:10:44                13.1437\n",
      "2017-02-01 14:10:54                13.1434\n",
      "2017-02-01 14:11:04                13.1433\n",
      "2017-02-01 14:11:14                13.1430\n"
     ]
    }
   ],
   "source": [
    "# Select the parameter\n",
    "parameter = \"sea_water_temperature\"\n",
    "# Request for the observation\n",
    "status_code, df = egim.observation(observatory, instrument, parameter,\n",
    "                                   startDate=\"01/02/2017\", endDate=\"02/02/2017\")\n",
    "if status_code == 200:\n",
    "    # If the status code is 200, the request has succeeded\n",
    "    print(df.head())\n",
    "else:\n",
    "    print(\"Status code:\", status_code)"
   ]
  },
  {
   "cell_type": "markdown",
   "metadata": {},
   "source": [
    "## Getting data out "
   ]
  },
  {
   "cell_type": "markdown",
   "metadata": {},
   "source": [
    "### WaterFrame"
   ]
  },
  {
   "cell_type": "markdown",
   "metadata": {},
   "source": [
    "[Creating a WaterFrame](https://github.com/rbardaji/mooda/blob/master/docs/api_reference/access/egim/to_waterframe.md)."
   ]
  },
  {
   "cell_type": "code",
   "execution_count": 8,
   "metadata": {},
   "outputs": [
    {
     "data": {
      "text/plain": [
       "Memory usage: 85.56 KBytes\n",
       "Parameters:\n",
       "  - TEMP: sea_water_temperature (degree Celsius)\n",
       "    - Min value: 13.143\n",
       "    - Date min value: 2017-02-01 14:12:14\n",
       "    - Max value: 13.177\n",
       "    - Date max value: 2017-02-01 20:04:54\n",
       "    - Mean value: 13.166\n",
       "    - Values with QC = 1: 0.000 %"
      ]
     },
     "execution_count": 8,
     "metadata": {},
     "output_type": "execute_result"
    }
   ],
   "source": [
    "wf = EGIM.to_waterframe(data=df, metadata=metadata)\n",
    "wf"
   ]
  },
  {
   "cell_type": "markdown",
   "metadata": {},
   "source": [
    "### CSV"
   ]
  },
  {
   "cell_type": "markdown",
   "metadata": {},
   "source": [
    "[Writing to a csv file](https://github.com/rbardaji/mooda/blob/master/docs/api_reference/access/egim/to_csv.md)."
   ]
  },
  {
   "cell_type": "code",
   "execution_count": 9,
   "metadata": {},
   "outputs": [
    {
     "data": {
      "text/plain": [
       "True"
      ]
     },
     "execution_count": 9,
     "metadata": {},
     "output_type": "execute_result"
    }
   ],
   "source": [
    "EGIM.to_csv(observatory=observatory, data=df, path=\"emso_data.csv\")"
   ]
  },
  {
   "cell_type": "markdown",
   "metadata": {},
   "source": [
    "### NetCDF "
   ]
  },
  {
   "cell_type": "markdown",
   "metadata": {},
   "source": [
    "[Writting to a netcdf3 64bits file](https://github.com/rbardaji/mooda/blob/master/docs/api_reference/access/egim/to_netcdf.md)."
   ]
  },
  {
   "cell_type": "code",
   "execution_count": 10,
   "metadata": {},
   "outputs": [
    {
     "data": {
      "text/plain": [
       "True"
      ]
     },
     "execution_count": 10,
     "metadata": {},
     "output_type": "execute_result"
    }
   ],
   "source": [
    "EGIM.to_netcdf(observatory=observatory, instrument=instrument, data=df, path=\"emso_data.nc\")"
   ]
  }
 ],
 "metadata": {
  "kernelspec": {
   "display_name": "Python 3",
   "language": "python",
   "name": "python3"
  },
  "language_info": {
   "codemirror_mode": {
    "name": "ipython",
    "version": 3
   },
   "file_extension": ".py",
   "mimetype": "text/x-python",
   "name": "python",
   "nbconvert_exporter": "python",
   "pygments_lexer": "ipython3",
   "version": "3.7.0"
  }
 },
 "nbformat": 4,
 "nbformat_minor": 2
}
