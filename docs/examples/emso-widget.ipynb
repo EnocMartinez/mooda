{
 "metadata": {
  "language_info": {
   "codemirror_mode": {
    "name": "ipython",
    "version": 3
   },
   "file_extension": ".py",
   "mimetype": "text/x-python",
   "name": "python",
   "nbconvert_exporter": "python",
   "pygments_lexer": "ipython3",
   "version": "3.8.4-final"
  },
  "orig_nbformat": 2,
  "kernelspec": {
   "name": "python3",
   "display_name": "Python 3",
   "language": "python"
  }
 },
 "nbformat": 4,
 "nbformat_minor": 2,
 "cells": [
  {
   "source": [
    "# How to download EMSO data with a Jupyter Notebook Widget\n",
    "\n",
    "The mooda library contains a function for downloading data through the [EMSO API](http://api.emso.eu/). The function is called [mooda.from_emso(*...*)](https://rbardaji.github.io/mooda/docs/api_reference/input/from_emso.html) and returns a WaterFrame object. This function can also be called via a Jupyter Notebook Widget.\n",
    "\n",
    "The widfet creates a form. In this example you want to discharge 10 water temperature values from Observatory 68422. The date period is not specified."
   ],
   "cell_type": "markdown",
   "metadata": {}
  },
  {
   "cell_type": "code",
   "execution_count": null,
   "metadata": {},
   "outputs": [],
   "source": [
    "import mooda as md\n",
    "\n",
    "wf = md.WaterFrame()\n",
    "\n",
    "gui = md.widget_emso(wf)\n",
    "gui"
   ]
  },
  {
   "source": [
    "Now we have the data in the wf variable."
   ],
   "cell_type": "markdown",
   "metadata": {}
  },
  {
   "cell_type": "code",
   "execution_count": null,
   "metadata": {},
   "outputs": [],
   "source": [
    "wf"
   ]
  }
 ]
}