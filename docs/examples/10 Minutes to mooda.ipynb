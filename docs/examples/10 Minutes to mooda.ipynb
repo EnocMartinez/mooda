{
 "cells": [
  {
   "cell_type": "markdown",
   "metadata": {},
   "source": [
    "# 10 Minutes to mooda\n",
    "\n",
    "This is a introduction to mooda and the WaterFrame.\n",
    "\n",
    "A WaterFrame contains three essential elements:\n",
    "\n",
    "* A pandas DataFrame, located into WaterFrame.data\n",
    "* A metadata dictionary, located into WaterFrame.metadata\n",
    "* A meaning dictionary, located into WaterFrame.meaning\n",
    "\n",
    "The **metadata dictionary** contains information about the DataFrame, i.e. The location of the measurements, the instrument models, some extra notes.\n",
    "\n",
    "The **meaning dictionary** contains information about the meaning of the keys of the DataFrame. For example, if the DataFrame contains a key called \"TEMP\", in the meaning dictionary will be the information that explains that \"TEMP\" means \"Seawater temperature.\"\n",
    "\n",
    "There are two types of columns in the pandas DataFrame:\n",
    "\n",
    "* **Parameter columns**: Columns that contain values of a parameter. The key of the column is the name of the parameter.\n",
    "* **Quality Control columns**: Columns that contain the Quality Control Flag of the values of a parameter. The key of the column is named such as **{parameter name}_QC**.\n",
    "\n",
    "The **index** of the pandas DataFrame must be **TIME**.\n"
   ]
  },
  {
   "cell_type": "markdown",
   "metadata": {},
   "source": [
    "Customarily, we import as follows:"
   ]
  },
  {
   "cell_type": "code",
   "execution_count": 1,
   "metadata": {},
   "outputs": [],
   "source": [
    "from mooda import WaterFrame\n",
    "import numpy as np\n",
    "import pandas as pd"
   ]
  },
  {
   "cell_type": "markdown",
   "metadata": {},
   "source": [
    "## Object creation\n",
    "\n",
    "Creating an empty [WaterFrame](https://github.com/rbardaji/mooda/blob/master/docs/api_reference/waterframe/__init__.md):"
   ]
  },
  {
   "cell_type": "code",
   "execution_count": 2,
   "metadata": {},
   "outputs": [
    {
     "data": {
      "text/plain": [
       "Memory usage: 264.00 Bytes\n",
       "There is no data."
      ]
     },
     "execution_count": 2,
     "metadata": {},
     "output_type": "execute_result"
    }
   ],
   "source": [
    "wf = WaterFrame()\n",
    "wf"
   ]
  },
  {
   "cell_type": "markdown",
   "metadata": {},
   "source": [
    "Creating a [WaterFrame](https://github.com/rbardaji/mooda/blob/master/docs/api_reference/waterframe/__init__.md) from a [pandas DataFrame]((https://github.com/rbardaji/mooda/blob/master/docs/api_reference/waterframe/from_dataframe.md)), a metadata dictionary and a meanings dictionary:"
   ]
  },
  {
   "cell_type": "code",
   "execution_count": 3,
   "metadata": {},
   "outputs": [
    {
     "data": {
      "text/plain": [
       "Memory usage: 1.06 KBytes\n",
       "Parameters:\n",
       "  - TEMP: sea_water_temperature (degree_celsius)\n",
       "    - Min value: 9.003\n",
       "    - Date min value: 2018-01-03 00:00:00\n",
       "    - Max value: 10.969\n",
       "    - Date max value: 2018-01-07 00:00:00\n",
       "    - Mean value: 9.886\n",
       "    - Values with QC = 1: 0.000 %\n",
       "  - PSAL: sea_water_practical_salinity (PSU)\n",
       "    - Min value: 28.000\n",
       "    - Date min value: 2018-01-01 00:00:00\n",
       "    - Max value: 32.000\n",
       "    - Date max value: 2018-01-20 00:00:00\n",
       "    - Mean value: 30.000\n",
       "    - Values with QC = 1: 0.000 %"
      ]
     },
     "execution_count": 3,
     "metadata": {},
     "output_type": "execute_result"
    }
   ],
   "source": [
    "# Creating a DataFrame\n",
    "dates = pd.date_range('20180101000000', periods=20)\n",
    "x = np.linspace(-np.pi, 4*np.pi, 20)\n",
    "df = pd.DataFrame({'TEMP': np.sin(x)+10, 'PSAL': np.cos(x)*2 + 30}, index=dates)\n",
    "\n",
    "# Creating metadata information\n",
    "metadata = dict()\n",
    "metadata['instrument'] = 'CTD'\n",
    "metadata['latitude'] = '42.03'\n",
    "metadata['longitude'] = '2.11'\n",
    "\n",
    "# Creating parameter meanings\n",
    "meaning = dict()\n",
    "meaning['TEMP'] = {'long_name': 'sea_water_temperature',\n",
    "                    'units': 'degree_celsius'}\n",
    "meaning['PSAL'] = {'long_name': 'sea_water_practical_salinity',\n",
    "                   'units': 'PSU'}\n",
    "\n",
    "# Creating the WaterFrame\n",
    "wf = WaterFrame(df=df, metadata=metadata, meaning=meaning)\n",
    "wf"
   ]
  },
  {
   "cell_type": "markdown",
   "metadata": {},
   "source": [
    "Creating a [WaterFrame](https://github.com/rbardaji/mooda/blob/master/docs/api_reference/waterframe/__init__.md) from a [NetCDF](https://github.com/rbardaji/mooda/blob/master/docs/api_reference/waterframe/from_netcdf.md) file:"
   ]
  },
  {
   "cell_type": "code",
   "execution_count": 4,
   "metadata": {},
   "outputs": [
    {
     "data": {
      "text/plain": [
       "Memory usage: 904.00 Bytes\n",
       "Parameters:\n",
       "  - TEMP: sea_water_temperature (degree_celsius)\n",
       "    - Min value: 9.003\n",
       "    - Date min value: 2018-01-03 00:00:00\n",
       "    - Max value: 10.969\n",
       "    - Date max value: 2018-01-07 00:00:00\n",
       "    - Mean value: 9.886\n",
       "    - Values with QC = 1: 0.000 %\n",
       "  - PSAL: sea_water_practical_salinity (PSU)\n",
       "    - Min value: 28.000\n",
       "    - Date min value: 2018-01-01 00:00:00\n",
       "    - Max value: 32.000\n",
       "    - Date max value: 2018-01-20 00:00:00\n",
       "    - Mean value: 30.000\n",
       "    - Values with QC = 1: 0.000 %"
      ]
     },
     "execution_count": 4,
     "metadata": {},
     "output_type": "execute_result"
    }
   ],
   "source": [
    "path_netcdf = r\"C:\\Users\\rbard\\Google Drive\\ok\\git\\mooda\\docs\\examples\\example_data\\example.nc\"\n",
    "wf = WaterFrame(path=path_netcdf)\n",
    "wf"
   ]
  },
  {
   "cell_type": "markdown",
   "metadata": {},
   "source": [
    "Creating a [WaterFrame](https://github.com/rbardaji/mooda/blob/master/docs/api_reference/waterframe/__init__.md) from a [CSV](https://github.com/rbardaji/mooda/blob/master/docs/api_reference/waterframe/from_csv.md) file:"
   ]
  },
  {
   "cell_type": "code",
   "execution_count": 5,
   "metadata": {},
   "outputs": [
    {
     "data": {
      "text/plain": [
       "Memory usage: 2.56 KBytes\n",
       "Parameters:\n",
       "  - TEMP: sea_water_temperature (degree_celsius)\n",
       "    - Min value: 9.003\n",
       "    - Date min value: 2018-01-03\n",
       "    - Max value: 10.969\n",
       "    - Date max value: 2018-01-07\n",
       "    - Mean value: 9.886\n",
       "    - Values with QC = 1: 0.000 %\n",
       "  - PSAL: sea_water_practical_salinity (PSU)\n",
       "    - Min value: 28.000\n",
       "    - Date min value: 2018-01-01\n",
       "    - Max value: 32.000\n",
       "    - Date max value: 2018-01-20\n",
       "    - Mean value: 30.000\n",
       "    - Values with QC = 1: 0.000 %"
      ]
     },
     "execution_count": 5,
     "metadata": {},
     "output_type": "execute_result"
    }
   ],
   "source": [
    "path_csv = r\"C:\\Users\\rbard\\Google Drive\\ok\\git\\mooda\\docs\\examples\\example_data\\example.csv\"\n",
    "wf.from_csv(path_csv, comment=\"#\", sep=\";\", index_col=0)\n",
    "wf"
   ]
  },
  {
   "cell_type": "markdown",
   "metadata": {},
   "source": [
    "## Viewing data"
   ]
  },
  {
   "cell_type": "markdown",
   "metadata": {},
   "source": [
    "Here is how to access to the metadata diccionary:"
   ]
  },
  {
   "cell_type": "code",
   "execution_count": 6,
   "metadata": {},
   "outputs": [
    {
     "data": {
      "text/plain": [
       "{'instrument': 'CTD', 'latitude': '42.03', 'longitude': '2.11'}"
      ]
     },
     "execution_count": 6,
     "metadata": {},
     "output_type": "execute_result"
    }
   ],
   "source": [
    "wf.metadata"
   ]
  },
  {
   "cell_type": "markdown",
   "metadata": {},
   "source": [
    "Display the [metadata information](https://github.com/rbardaji/mooda/blob/master/docs/api_reference/waterframe/info_metadata.md):"
   ]
  },
  {
   "cell_type": "code",
   "execution_count": 7,
   "metadata": {},
   "outputs": [
    {
     "name": "stdout",
     "output_type": "stream",
     "text": [
      "METADATA:\n",
      "  - instrument: CTD\n",
      "  - latitude: 42.03\n",
      "  - longitude: 2.11\n"
     ]
    }
   ],
   "source": [
    "print(\"METADATA:\")\n",
    "print(wf.info_metadata())"
   ]
  },
  {
   "cell_type": "markdown",
   "metadata": {},
   "source": [
    "Display the [meaning information](https://github.com/rbardaji/mooda/blob/master/docs/api_reference/waterframe/info_meaning.md):"
   ]
  },
  {
   "cell_type": "code",
   "execution_count": 8,
   "metadata": {},
   "outputs": [
    {
     "name": "stdout",
     "output_type": "stream",
     "text": [
      "MEANING:\n",
      "  - dim_0\n",
      "  - TEMP\n",
      "    - long_name: sea_water_temperature\n",
      "    - units: degree_celsius\n",
      "  - PSAL\n",
      "    - long_name: sea_water_practical_salinity\n",
      "    - units: PSU\n",
      "  - DEPTH\n",
      "    - long_name: depth_of_measure\n",
      "    - units: meters\n"
     ]
    }
   ],
   "source": [
    "print(\"MEANING:\")\n",
    "print(wf.info_meaning())"
   ]
  },
  {
   "cell_type": "markdown",
   "metadata": {},
   "source": [
    "[parameters()](https://github.com/rbardaji/mooda/blob/master/docs/api_reference/waterframe/parameters.md) returns a list with the keys of the DataFrame, but expluding the QC columns."
   ]
  },
  {
   "cell_type": "code",
   "execution_count": 9,
   "metadata": {},
   "outputs": [
    {
     "data": {
      "text/plain": [
       "['TEMP', 'PSAL']"
      ]
     },
     "execution_count": 9,
     "metadata": {},
     "output_type": "execute_result"
    }
   ],
   "source": [
    "wf.parameters()"
   ]
  },
  {
   "cell_type": "markdown",
   "metadata": {},
   "source": [
    "Checking the [min](https://github.com/rbardaji/mooda/blob/master/docs/api_reference/waterframe/min.md), [max](https://github.com/rbardaji/mooda/blob/master/docs/api_reference/waterframe/max.md) and [mean](https://github.com/rbardaji/mooda/blob/master/docs/api_reference/waterframe/mean.md) of a parameter:"
   ]
  },
  {
   "cell_type": "code",
   "execution_count": 10,
   "metadata": {},
   "outputs": [
    {
     "name": "stdout",
     "output_type": "stream",
     "text": [
      "TEMPERATURE INFO:\n",
      "Min value: 9.00341550699333, at 2018-01-03\n",
      "Max value: 10.969400265939331, at 2018-01-07\n",
      "Mean value: 9.886011481529044\n"
     ]
    }
   ],
   "source": [
    "time_min, value_min = wf.min('TEMP')\n",
    "time_max, value_max = wf.max('TEMP')\n",
    "value_mean = wf.mean('TEMP')\n",
    "\n",
    "print(\"TEMPERATURE INFO:\")\n",
    "print(f\"Min value: {value_min}, at {time_min}\")\n",
    "print(f\"Max value: {value_max}, at {time_max}\")\n",
    "print(f\"Mean value: {value_mean}\")"
   ]
  },
  {
   "cell_type": "markdown",
   "metadata": {},
   "source": [
    "Know how many RAM [memory](https://github.com/rbardaji/mooda/blob/master/docs/api_reference/waterframe/momory_usage.md) is using the WaterFrame."
   ]
  },
  {
   "cell_type": "code",
   "execution_count": 11,
   "metadata": {},
   "outputs": [
    {
     "name": "stdout",
     "output_type": "stream",
     "text": [
      "2564 Bytes\n"
     ]
    }
   ],
   "source": [
    "print(wf.memory_usage(), \"Bytes\")"
   ]
  },
  {
   "cell_type": "markdown",
   "metadata": {},
   "source": [
    "## Selection "
   ]
  },
  {
   "cell_type": "markdown",
   "metadata": {},
   "source": [
    "### Getting metadata"
   ]
  },
  {
   "cell_type": "markdown",
   "metadata": {},
   "source": [
    "Here is how to access to the metadata diccionary:"
   ]
  },
  {
   "cell_type": "code",
   "execution_count": 12,
   "metadata": {},
   "outputs": [
    {
     "data": {
      "text/plain": [
       "{'instrument': 'CTD', 'latitude': '42.03', 'longitude': '2.11'}"
      ]
     },
     "execution_count": 12,
     "metadata": {},
     "output_type": "execute_result"
    }
   ],
   "source": [
    "wf.metadata"
   ]
  },
  {
   "cell_type": "markdown",
   "metadata": {},
   "source": [
    "Adding new element to the metadata:"
   ]
  },
  {
   "cell_type": "code",
   "execution_count": 13,
   "metadata": {},
   "outputs": [
    {
     "data": {
      "text/plain": [
       "{'instrument': 'CTD',\n",
       " 'latitude': '42.03',\n",
       " 'longitude': '2.11',\n",
       " 'new information': 'example of indformation'}"
      ]
     },
     "execution_count": 13,
     "metadata": {},
     "output_type": "execute_result"
    }
   ],
   "source": [
    "wf.metadata['new information'] = 'example of indformation'\n",
    "wf.metadata"
   ]
  },
  {
   "cell_type": "markdown",
   "metadata": {},
   "source": [
    "Deleting an element of the metadata:"
   ]
  },
  {
   "cell_type": "code",
   "execution_count": 14,
   "metadata": {},
   "outputs": [
    {
     "data": {
      "text/plain": [
       "{'instrument': 'CTD', 'latitude': '42.03', 'longitude': '2.11'}"
      ]
     },
     "execution_count": 14,
     "metadata": {},
     "output_type": "execute_result"
    }
   ],
   "source": [
    "del wf.metadata['new information']\n",
    "wf.metadata"
   ]
  },
  {
   "cell_type": "markdown",
   "metadata": {},
   "source": [
    "### Getting meaning "
   ]
  },
  {
   "cell_type": "markdown",
   "metadata": {},
   "source": [
    "Here is how to access to the meaning dictionary:"
   ]
  },
  {
   "cell_type": "code",
   "execution_count": 15,
   "metadata": {},
   "outputs": [
    {
     "data": {
      "text/plain": [
       "{'dim_0': {},\n",
       " 'TEMP': {'long_name': 'sea_water_temperature', 'units': 'degree_celsius'},\n",
       " 'PSAL': {'long_name': 'sea_water_practical_salinity', 'units': 'PSU'},\n",
       " 'DEPTH': {'long_name': 'depth_of_measure', 'units': 'meters'}}"
      ]
     },
     "execution_count": 15,
     "metadata": {},
     "output_type": "execute_result"
    }
   ],
   "source": [
    "wf.meaning"
   ]
  },
  {
   "cell_type": "markdown",
   "metadata": {},
   "source": [
    "Display an element of meaning:"
   ]
  },
  {
   "cell_type": "code",
   "execution_count": 16,
   "metadata": {},
   "outputs": [
    {
     "data": {
      "text/plain": [
       "{'long_name': 'sea_water_temperature', 'units': 'degree_celsius'}"
      ]
     },
     "execution_count": 16,
     "metadata": {},
     "output_type": "execute_result"
    }
   ],
   "source": [
    "wf.meaning['TEMP']"
   ]
  },
  {
   "cell_type": "code",
   "execution_count": 17,
   "metadata": {},
   "outputs": [
    {
     "data": {
      "text/plain": [
       "'sea_water_temperature'"
      ]
     },
     "execution_count": 17,
     "metadata": {},
     "output_type": "execute_result"
    }
   ],
   "source": [
    "wf.meaning['TEMP']['long_name']"
   ]
  },
  {
   "cell_type": "markdown",
   "metadata": {},
   "source": [
    "Adding new element to meaning:"
   ]
  },
  {
   "cell_type": "code",
   "execution_count": 18,
   "metadata": {},
   "outputs": [
    {
     "data": {
      "text/plain": [
       "{'long_name': 'sea_water_temperature',\n",
       " 'units': 'degree_celsius',\n",
       " 'other_name': 'other name for the parameter'}"
      ]
     },
     "execution_count": 18,
     "metadata": {},
     "output_type": "execute_result"
    }
   ],
   "source": [
    "wf.meaning['TEMP']['other_name'] = 'other name for the parameter'\n",
    "wf.meaning['TEMP']"
   ]
  },
  {
   "cell_type": "markdown",
   "metadata": {},
   "source": [
    "Delete an element of meaning:"
   ]
  },
  {
   "cell_type": "code",
   "execution_count": 19,
   "metadata": {},
   "outputs": [
    {
     "data": {
      "text/plain": [
       "{'long_name': 'sea_water_temperature', 'units': 'degree_celsius'}"
      ]
     },
     "execution_count": 19,
     "metadata": {},
     "output_type": "execute_result"
    }
   ],
   "source": [
    "del wf.meaning['TEMP']['other_name']\n",
    "wf.meaning['TEMP']"
   ]
  },
  {
   "cell_type": "markdown",
   "metadata": {},
   "source": [
    "### Getting data"
   ]
  },
  {
   "cell_type": "markdown",
   "metadata": {},
   "source": [
    "WaterFrame.data is a pandas DataFrame. You can use all the pandas Dataframe methods.\n",
    "This is how to access to the DataFrame:"
   ]
  },
  {
   "cell_type": "code",
   "execution_count": 20,
   "metadata": {},
   "outputs": [
    {
     "data": {
      "text/html": [
       "<div>\n",
       "<style scoped>\n",
       "    .dataframe tbody tr th:only-of-type {\n",
       "        vertical-align: middle;\n",
       "    }\n",
       "\n",
       "    .dataframe tbody tr th {\n",
       "        vertical-align: top;\n",
       "    }\n",
       "\n",
       "    .dataframe thead th {\n",
       "        text-align: right;\n",
       "    }\n",
       "</style>\n",
       "<table border=\"1\" class=\"dataframe\">\n",
       "  <thead>\n",
       "    <tr style=\"text-align: right;\">\n",
       "      <th></th>\n",
       "      <th>TEMP</th>\n",
       "      <th>PSAL</th>\n",
       "      <th>TEMP_QC</th>\n",
       "      <th>PSAL_QC</th>\n",
       "      <th>TEMP_QC_QC</th>\n",
       "      <th>PSAL_QC_QC</th>\n",
       "    </tr>\n",
       "  </thead>\n",
       "  <tbody>\n",
       "    <tr>\n",
       "      <th>2018-01-01</th>\n",
       "      <td>10.000000</td>\n",
       "      <td>28.000000</td>\n",
       "      <td>0</td>\n",
       "      <td>0</td>\n",
       "      <td>0</td>\n",
       "      <td>0</td>\n",
       "    </tr>\n",
       "    <tr>\n",
       "      <th>2018-01-02</th>\n",
       "      <td>9.264276</td>\n",
       "      <td>28.645437</td>\n",
       "      <td>0</td>\n",
       "      <td>0</td>\n",
       "      <td>0</td>\n",
       "      <td>0</td>\n",
       "    </tr>\n",
       "    <tr>\n",
       "      <th>2018-01-03</th>\n",
       "      <td>9.003416</td>\n",
       "      <td>30.165159</td>\n",
       "      <td>0</td>\n",
       "      <td>0</td>\n",
       "      <td>0</td>\n",
       "      <td>0</td>\n",
       "    </tr>\n",
       "    <tr>\n",
       "      <th>2018-01-04</th>\n",
       "      <td>9.385787</td>\n",
       "      <td>31.578281</td>\n",
       "      <td>0</td>\n",
       "      <td>0</td>\n",
       "      <td>0</td>\n",
       "      <td>0</td>\n",
       "    </tr>\n",
       "    <tr>\n",
       "      <th>2018-01-05</th>\n",
       "      <td>10.164595</td>\n",
       "      <td>31.972723</td>\n",
       "      <td>0</td>\n",
       "      <td>0</td>\n",
       "      <td>0</td>\n",
       "      <td>0</td>\n",
       "    </tr>\n",
       "    <tr>\n",
       "      <th>2018-01-06</th>\n",
       "      <td>10.837166</td>\n",
       "      <td>31.093896</td>\n",
       "      <td>0</td>\n",
       "      <td>0</td>\n",
       "      <td>0</td>\n",
       "      <td>0</td>\n",
       "    </tr>\n",
       "    <tr>\n",
       "      <th>2018-01-07</th>\n",
       "      <td>10.969400</td>\n",
       "      <td>29.509029</td>\n",
       "      <td>0</td>\n",
       "      <td>0</td>\n",
       "      <td>0</td>\n",
       "      <td>0</td>\n",
       "    </tr>\n",
       "    <tr>\n",
       "      <th>2018-01-08</th>\n",
       "      <td>10.475947</td>\n",
       "      <td>28.241052</td>\n",
       "      <td>0</td>\n",
       "      <td>0</td>\n",
       "      <td>0</td>\n",
       "      <td>0</td>\n",
       "    </tr>\n",
       "    <tr>\n",
       "      <th>2018-01-09</th>\n",
       "      <td>9.675301</td>\n",
       "      <td>28.108366</td>\n",
       "      <td>0</td>\n",
       "      <td>0</td>\n",
       "      <td>0</td>\n",
       "      <td>0</td>\n",
       "    </tr>\n",
       "    <tr>\n",
       "      <th>2018-01-10</th>\n",
       "      <td>9.084227</td>\n",
       "      <td>29.196609</td>\n",
       "      <td>0</td>\n",
       "      <td>0</td>\n",
       "      <td>0</td>\n",
       "      <td>0</td>\n",
       "    </tr>\n",
       "    <tr>\n",
       "      <th>2018-01-11</th>\n",
       "      <td>9.084227</td>\n",
       "      <td>30.803391</td>\n",
       "      <td>0</td>\n",
       "      <td>0</td>\n",
       "      <td>0</td>\n",
       "      <td>0</td>\n",
       "    </tr>\n",
       "    <tr>\n",
       "      <th>2018-01-12</th>\n",
       "      <td>9.675301</td>\n",
       "      <td>31.891634</td>\n",
       "      <td>0</td>\n",
       "      <td>0</td>\n",
       "      <td>0</td>\n",
       "      <td>0</td>\n",
       "    </tr>\n",
       "    <tr>\n",
       "      <th>2018-01-13</th>\n",
       "      <td>10.475947</td>\n",
       "      <td>31.758948</td>\n",
       "      <td>0</td>\n",
       "      <td>0</td>\n",
       "      <td>0</td>\n",
       "      <td>0</td>\n",
       "    </tr>\n",
       "    <tr>\n",
       "      <th>2018-01-14</th>\n",
       "      <td>10.969400</td>\n",
       "      <td>30.490971</td>\n",
       "      <td>0</td>\n",
       "      <td>0</td>\n",
       "      <td>0</td>\n",
       "      <td>0</td>\n",
       "    </tr>\n",
       "    <tr>\n",
       "      <th>2018-01-15</th>\n",
       "      <td>10.837166</td>\n",
       "      <td>28.906104</td>\n",
       "      <td>0</td>\n",
       "      <td>0</td>\n",
       "      <td>0</td>\n",
       "      <td>0</td>\n",
       "    </tr>\n",
       "    <tr>\n",
       "      <th>2018-01-16</th>\n",
       "      <td>10.164595</td>\n",
       "      <td>28.027277</td>\n",
       "      <td>0</td>\n",
       "      <td>0</td>\n",
       "      <td>0</td>\n",
       "      <td>0</td>\n",
       "    </tr>\n",
       "    <tr>\n",
       "      <th>2018-01-17</th>\n",
       "      <td>9.385787</td>\n",
       "      <td>28.421719</td>\n",
       "      <td>0</td>\n",
       "      <td>0</td>\n",
       "      <td>0</td>\n",
       "      <td>0</td>\n",
       "    </tr>\n",
       "    <tr>\n",
       "      <th>2018-01-18</th>\n",
       "      <td>9.003416</td>\n",
       "      <td>29.834841</td>\n",
       "      <td>0</td>\n",
       "      <td>0</td>\n",
       "      <td>0</td>\n",
       "      <td>0</td>\n",
       "    </tr>\n",
       "    <tr>\n",
       "      <th>2018-01-19</th>\n",
       "      <td>9.264276</td>\n",
       "      <td>31.354563</td>\n",
       "      <td>0</td>\n",
       "      <td>0</td>\n",
       "      <td>0</td>\n",
       "      <td>0</td>\n",
       "    </tr>\n",
       "    <tr>\n",
       "      <th>2018-01-20</th>\n",
       "      <td>10.000000</td>\n",
       "      <td>32.000000</td>\n",
       "      <td>0</td>\n",
       "      <td>0</td>\n",
       "      <td>0</td>\n",
       "      <td>0</td>\n",
       "    </tr>\n",
       "  </tbody>\n",
       "</table>\n",
       "</div>"
      ],
      "text/plain": [
       "                 TEMP       PSAL  TEMP_QC  PSAL_QC  TEMP_QC_QC  PSAL_QC_QC\n",
       "2018-01-01  10.000000  28.000000        0        0           0           0\n",
       "2018-01-02   9.264276  28.645437        0        0           0           0\n",
       "2018-01-03   9.003416  30.165159        0        0           0           0\n",
       "2018-01-04   9.385787  31.578281        0        0           0           0\n",
       "2018-01-05  10.164595  31.972723        0        0           0           0\n",
       "2018-01-06  10.837166  31.093896        0        0           0           0\n",
       "2018-01-07  10.969400  29.509029        0        0           0           0\n",
       "2018-01-08  10.475947  28.241052        0        0           0           0\n",
       "2018-01-09   9.675301  28.108366        0        0           0           0\n",
       "2018-01-10   9.084227  29.196609        0        0           0           0\n",
       "2018-01-11   9.084227  30.803391        0        0           0           0\n",
       "2018-01-12   9.675301  31.891634        0        0           0           0\n",
       "2018-01-13  10.475947  31.758948        0        0           0           0\n",
       "2018-01-14  10.969400  30.490971        0        0           0           0\n",
       "2018-01-15  10.837166  28.906104        0        0           0           0\n",
       "2018-01-16  10.164595  28.027277        0        0           0           0\n",
       "2018-01-17   9.385787  28.421719        0        0           0           0\n",
       "2018-01-18   9.003416  29.834841        0        0           0           0\n",
       "2018-01-19   9.264276  31.354563        0        0           0           0\n",
       "2018-01-20  10.000000  32.000000        0        0           0           0"
      ]
     },
     "execution_count": 20,
     "metadata": {},
     "output_type": "execute_result"
    }
   ],
   "source": [
    "wf.data"
   ]
  },
  {
   "cell_type": "markdown",
   "metadata": {},
   "source": [
    "However, you can select a single column, which yields a Series, equivalent to *wf.data.TEMP*:"
   ]
  },
  {
   "cell_type": "code",
   "execution_count": 24,
   "metadata": {},
   "outputs": [
    {
     "data": {
      "text/plain": [
       "2018-01-01    10.000000\n",
       "2018-01-02     9.264276\n",
       "2018-01-03     9.003416\n",
       "2018-01-04     9.385787\n",
       "2018-01-05    10.164595\n",
       "2018-01-06    10.837166\n",
       "2018-01-07    10.969400\n",
       "2018-01-08    10.475947\n",
       "2018-01-09     9.675301\n",
       "2018-01-10     9.084227\n",
       "2018-01-11     9.084227\n",
       "2018-01-12     9.675301\n",
       "2018-01-13    10.475947\n",
       "2018-01-14    10.969400\n",
       "2018-01-15    10.837166\n",
       "2018-01-16    10.164595\n",
       "2018-01-17     9.385787\n",
       "2018-01-18     9.003416\n",
       "2018-01-19     9.264276\n",
       "2018-01-20    10.000000\n",
       "Name: TEMP, dtype: float64"
      ]
     },
     "execution_count": 24,
     "metadata": {},
     "output_type": "execute_result"
    }
   ],
   "source": [
    "wf['TEMP']"
   ]
  },
  {
   "cell_type": "markdown",
   "metadata": {},
   "source": [
    "Selecting via [], which slices the rows."
   ]
  },
  {
   "cell_type": "code",
   "execution_count": 25,
   "metadata": {},
   "outputs": [
    {
     "data": {
      "text/html": [
       "<div>\n",
       "<style scoped>\n",
       "    .dataframe tbody tr th:only-of-type {\n",
       "        vertical-align: middle;\n",
       "    }\n",
       "\n",
       "    .dataframe tbody tr th {\n",
       "        vertical-align: top;\n",
       "    }\n",
       "\n",
       "    .dataframe thead th {\n",
       "        text-align: right;\n",
       "    }\n",
       "</style>\n",
       "<table border=\"1\" class=\"dataframe\">\n",
       "  <thead>\n",
       "    <tr style=\"text-align: right;\">\n",
       "      <th></th>\n",
       "      <th>TEMP</th>\n",
       "      <th>PSAL</th>\n",
       "      <th>TEMP_QC</th>\n",
       "      <th>PSAL_QC</th>\n",
       "      <th>TEMP_QC_QC</th>\n",
       "      <th>PSAL_QC_QC</th>\n",
       "    </tr>\n",
       "  </thead>\n",
       "  <tbody>\n",
       "    <tr>\n",
       "      <th>2018-01-01</th>\n",
       "      <td>10.000000</td>\n",
       "      <td>28.000000</td>\n",
       "      <td>0</td>\n",
       "      <td>0</td>\n",
       "      <td>0</td>\n",
       "      <td>0</td>\n",
       "    </tr>\n",
       "    <tr>\n",
       "      <th>2018-01-02</th>\n",
       "      <td>9.264276</td>\n",
       "      <td>28.645437</td>\n",
       "      <td>0</td>\n",
       "      <td>0</td>\n",
       "      <td>0</td>\n",
       "      <td>0</td>\n",
       "    </tr>\n",
       "    <tr>\n",
       "      <th>2018-01-03</th>\n",
       "      <td>9.003416</td>\n",
       "      <td>30.165159</td>\n",
       "      <td>0</td>\n",
       "      <td>0</td>\n",
       "      <td>0</td>\n",
       "      <td>0</td>\n",
       "    </tr>\n",
       "  </tbody>\n",
       "</table>\n",
       "</div>"
      ],
      "text/plain": [
       "                 TEMP       PSAL  TEMP_QC  PSAL_QC  TEMP_QC_QC  PSAL_QC_QC\n",
       "2018-01-01  10.000000  28.000000        0        0           0           0\n",
       "2018-01-02   9.264276  28.645437        0        0           0           0\n",
       "2018-01-03   9.003416  30.165159        0        0           0           0"
      ]
     },
     "execution_count": 25,
     "metadata": {},
     "output_type": "execute_result"
    }
   ],
   "source": [
    "wf[0:3]"
   ]
  },
  {
   "cell_type": "markdown",
   "metadata": {},
   "source": [
    "#### Boolean Indexing"
   ]
  },
  {
   "cell_type": "markdown",
   "metadata": {},
   "source": [
    "Using a single column’s values to select data."
   ]
  },
  {
   "cell_type": "code",
   "execution_count": 28,
   "metadata": {},
   "outputs": [
    {
     "data": {
      "text/html": [
       "<div>\n",
       "<style scoped>\n",
       "    .dataframe tbody tr th:only-of-type {\n",
       "        vertical-align: middle;\n",
       "    }\n",
       "\n",
       "    .dataframe tbody tr th {\n",
       "        vertical-align: top;\n",
       "    }\n",
       "\n",
       "    .dataframe thead th {\n",
       "        text-align: right;\n",
       "    }\n",
       "</style>\n",
       "<table border=\"1\" class=\"dataframe\">\n",
       "  <thead>\n",
       "    <tr style=\"text-align: right;\">\n",
       "      <th></th>\n",
       "      <th>TEMP</th>\n",
       "      <th>PSAL</th>\n",
       "      <th>TEMP_QC</th>\n",
       "      <th>PSAL_QC</th>\n",
       "      <th>TEMP_QC_QC</th>\n",
       "      <th>PSAL_QC_QC</th>\n",
       "    </tr>\n",
       "  </thead>\n",
       "  <tbody>\n",
       "    <tr>\n",
       "      <th>2018-01-05</th>\n",
       "      <td>10.164595</td>\n",
       "      <td>31.972723</td>\n",
       "      <td>0</td>\n",
       "      <td>0</td>\n",
       "      <td>0</td>\n",
       "      <td>0</td>\n",
       "    </tr>\n",
       "    <tr>\n",
       "      <th>2018-01-06</th>\n",
       "      <td>10.837166</td>\n",
       "      <td>31.093896</td>\n",
       "      <td>0</td>\n",
       "      <td>0</td>\n",
       "      <td>0</td>\n",
       "      <td>0</td>\n",
       "    </tr>\n",
       "    <tr>\n",
       "      <th>2018-01-07</th>\n",
       "      <td>10.969400</td>\n",
       "      <td>29.509029</td>\n",
       "      <td>0</td>\n",
       "      <td>0</td>\n",
       "      <td>0</td>\n",
       "      <td>0</td>\n",
       "    </tr>\n",
       "    <tr>\n",
       "      <th>2018-01-08</th>\n",
       "      <td>10.475947</td>\n",
       "      <td>28.241052</td>\n",
       "      <td>0</td>\n",
       "      <td>0</td>\n",
       "      <td>0</td>\n",
       "      <td>0</td>\n",
       "    </tr>\n",
       "    <tr>\n",
       "      <th>2018-01-13</th>\n",
       "      <td>10.475947</td>\n",
       "      <td>31.758948</td>\n",
       "      <td>0</td>\n",
       "      <td>0</td>\n",
       "      <td>0</td>\n",
       "      <td>0</td>\n",
       "    </tr>\n",
       "    <tr>\n",
       "      <th>2018-01-14</th>\n",
       "      <td>10.969400</td>\n",
       "      <td>30.490971</td>\n",
       "      <td>0</td>\n",
       "      <td>0</td>\n",
       "      <td>0</td>\n",
       "      <td>0</td>\n",
       "    </tr>\n",
       "    <tr>\n",
       "      <th>2018-01-15</th>\n",
       "      <td>10.837166</td>\n",
       "      <td>28.906104</td>\n",
       "      <td>0</td>\n",
       "      <td>0</td>\n",
       "      <td>0</td>\n",
       "      <td>0</td>\n",
       "    </tr>\n",
       "    <tr>\n",
       "      <th>2018-01-16</th>\n",
       "      <td>10.164595</td>\n",
       "      <td>28.027277</td>\n",
       "      <td>0</td>\n",
       "      <td>0</td>\n",
       "      <td>0</td>\n",
       "      <td>0</td>\n",
       "    </tr>\n",
       "  </tbody>\n",
       "</table>\n",
       "</div>"
      ],
      "text/plain": [
       "                 TEMP       PSAL  TEMP_QC  PSAL_QC  TEMP_QC_QC  PSAL_QC_QC\n",
       "2018-01-05  10.164595  31.972723        0        0           0           0\n",
       "2018-01-06  10.837166  31.093896        0        0           0           0\n",
       "2018-01-07  10.969400  29.509029        0        0           0           0\n",
       "2018-01-08  10.475947  28.241052        0        0           0           0\n",
       "2018-01-13  10.475947  31.758948        0        0           0           0\n",
       "2018-01-14  10.969400  30.490971        0        0           0           0\n",
       "2018-01-15  10.837166  28.906104        0        0           0           0\n",
       "2018-01-16  10.164595  28.027277        0        0           0           0"
      ]
     },
     "execution_count": 28,
     "metadata": {},
     "output_type": "execute_result"
    }
   ],
   "source": [
    "wf[wf['TEMP'] > 10]"
   ]
  },
  {
   "cell_type": "markdown",
   "metadata": {},
   "source": [
    "Using the isin() method for filtering:"
   ]
  },
  {
   "cell_type": "code",
   "execution_count": 32,
   "metadata": {},
   "outputs": [
    {
     "data": {
      "text/html": [
       "<div>\n",
       "<style scoped>\n",
       "    .dataframe tbody tr th:only-of-type {\n",
       "        vertical-align: middle;\n",
       "    }\n",
       "\n",
       "    .dataframe tbody tr th {\n",
       "        vertical-align: top;\n",
       "    }\n",
       "\n",
       "    .dataframe thead th {\n",
       "        text-align: right;\n",
       "    }\n",
       "</style>\n",
       "<table border=\"1\" class=\"dataframe\">\n",
       "  <thead>\n",
       "    <tr style=\"text-align: right;\">\n",
       "      <th></th>\n",
       "      <th>TEMP</th>\n",
       "      <th>PSAL</th>\n",
       "      <th>TEMP_QC</th>\n",
       "      <th>PSAL_QC</th>\n",
       "      <th>TEMP_QC_QC</th>\n",
       "      <th>PSAL_QC_QC</th>\n",
       "      <th>filter</th>\n",
       "    </tr>\n",
       "  </thead>\n",
       "  <tbody>\n",
       "    <tr>\n",
       "      <th>2018-01-01</th>\n",
       "      <td>10.000000</td>\n",
       "      <td>28.000000</td>\n",
       "      <td>0</td>\n",
       "      <td>0</td>\n",
       "      <td>0</td>\n",
       "      <td>0</td>\n",
       "      <td>1</td>\n",
       "    </tr>\n",
       "    <tr>\n",
       "      <th>2018-01-02</th>\n",
       "      <td>9.264276</td>\n",
       "      <td>28.645437</td>\n",
       "      <td>0</td>\n",
       "      <td>0</td>\n",
       "      <td>0</td>\n",
       "      <td>0</td>\n",
       "      <td>1</td>\n",
       "    </tr>\n",
       "    <tr>\n",
       "      <th>2018-01-03</th>\n",
       "      <td>9.003416</td>\n",
       "      <td>30.165159</td>\n",
       "      <td>0</td>\n",
       "      <td>0</td>\n",
       "      <td>0</td>\n",
       "      <td>0</td>\n",
       "      <td>1</td>\n",
       "    </tr>\n",
       "    <tr>\n",
       "      <th>2018-01-04</th>\n",
       "      <td>9.385787</td>\n",
       "      <td>31.578281</td>\n",
       "      <td>0</td>\n",
       "      <td>0</td>\n",
       "      <td>0</td>\n",
       "      <td>0</td>\n",
       "      <td>1</td>\n",
       "    </tr>\n",
       "    <tr>\n",
       "      <th>2018-01-05</th>\n",
       "      <td>10.164595</td>\n",
       "      <td>31.972723</td>\n",
       "      <td>0</td>\n",
       "      <td>0</td>\n",
       "      <td>0</td>\n",
       "      <td>0</td>\n",
       "      <td>0</td>\n",
       "    </tr>\n",
       "    <tr>\n",
       "      <th>2018-01-06</th>\n",
       "      <td>10.837166</td>\n",
       "      <td>31.093896</td>\n",
       "      <td>0</td>\n",
       "      <td>0</td>\n",
       "      <td>0</td>\n",
       "      <td>0</td>\n",
       "      <td>0</td>\n",
       "    </tr>\n",
       "    <tr>\n",
       "      <th>2018-01-07</th>\n",
       "      <td>10.969400</td>\n",
       "      <td>29.509029</td>\n",
       "      <td>0</td>\n",
       "      <td>0</td>\n",
       "      <td>0</td>\n",
       "      <td>0</td>\n",
       "      <td>0</td>\n",
       "    </tr>\n",
       "    <tr>\n",
       "      <th>2018-01-08</th>\n",
       "      <td>10.475947</td>\n",
       "      <td>28.241052</td>\n",
       "      <td>0</td>\n",
       "      <td>0</td>\n",
       "      <td>0</td>\n",
       "      <td>0</td>\n",
       "      <td>0</td>\n",
       "    </tr>\n",
       "    <tr>\n",
       "      <th>2018-01-09</th>\n",
       "      <td>9.675301</td>\n",
       "      <td>28.108366</td>\n",
       "      <td>0</td>\n",
       "      <td>0</td>\n",
       "      <td>0</td>\n",
       "      <td>0</td>\n",
       "      <td>1</td>\n",
       "    </tr>\n",
       "    <tr>\n",
       "      <th>2018-01-10</th>\n",
       "      <td>9.084227</td>\n",
       "      <td>29.196609</td>\n",
       "      <td>0</td>\n",
       "      <td>0</td>\n",
       "      <td>0</td>\n",
       "      <td>0</td>\n",
       "      <td>1</td>\n",
       "    </tr>\n",
       "    <tr>\n",
       "      <th>2018-01-11</th>\n",
       "      <td>9.084227</td>\n",
       "      <td>30.803391</td>\n",
       "      <td>0</td>\n",
       "      <td>0</td>\n",
       "      <td>0</td>\n",
       "      <td>0</td>\n",
       "      <td>1</td>\n",
       "    </tr>\n",
       "    <tr>\n",
       "      <th>2018-01-12</th>\n",
       "      <td>9.675301</td>\n",
       "      <td>31.891634</td>\n",
       "      <td>0</td>\n",
       "      <td>0</td>\n",
       "      <td>0</td>\n",
       "      <td>0</td>\n",
       "      <td>1</td>\n",
       "    </tr>\n",
       "    <tr>\n",
       "      <th>2018-01-13</th>\n",
       "      <td>10.475947</td>\n",
       "      <td>31.758948</td>\n",
       "      <td>0</td>\n",
       "      <td>0</td>\n",
       "      <td>0</td>\n",
       "      <td>0</td>\n",
       "      <td>1</td>\n",
       "    </tr>\n",
       "    <tr>\n",
       "      <th>2018-01-14</th>\n",
       "      <td>10.969400</td>\n",
       "      <td>30.490971</td>\n",
       "      <td>0</td>\n",
       "      <td>0</td>\n",
       "      <td>0</td>\n",
       "      <td>0</td>\n",
       "      <td>1</td>\n",
       "    </tr>\n",
       "    <tr>\n",
       "      <th>2018-01-15</th>\n",
       "      <td>10.837166</td>\n",
       "      <td>28.906104</td>\n",
       "      <td>0</td>\n",
       "      <td>0</td>\n",
       "      <td>0</td>\n",
       "      <td>0</td>\n",
       "      <td>0</td>\n",
       "    </tr>\n",
       "    <tr>\n",
       "      <th>2018-01-16</th>\n",
       "      <td>10.164595</td>\n",
       "      <td>28.027277</td>\n",
       "      <td>0</td>\n",
       "      <td>0</td>\n",
       "      <td>0</td>\n",
       "      <td>0</td>\n",
       "      <td>0</td>\n",
       "    </tr>\n",
       "    <tr>\n",
       "      <th>2018-01-17</th>\n",
       "      <td>9.385787</td>\n",
       "      <td>28.421719</td>\n",
       "      <td>0</td>\n",
       "      <td>0</td>\n",
       "      <td>0</td>\n",
       "      <td>0</td>\n",
       "      <td>0</td>\n",
       "    </tr>\n",
       "    <tr>\n",
       "      <th>2018-01-18</th>\n",
       "      <td>9.003416</td>\n",
       "      <td>29.834841</td>\n",
       "      <td>0</td>\n",
       "      <td>0</td>\n",
       "      <td>0</td>\n",
       "      <td>0</td>\n",
       "      <td>0</td>\n",
       "    </tr>\n",
       "    <tr>\n",
       "      <th>2018-01-19</th>\n",
       "      <td>9.264276</td>\n",
       "      <td>31.354563</td>\n",
       "      <td>0</td>\n",
       "      <td>0</td>\n",
       "      <td>0</td>\n",
       "      <td>0</td>\n",
       "      <td>1</td>\n",
       "    </tr>\n",
       "    <tr>\n",
       "      <th>2018-01-20</th>\n",
       "      <td>10.000000</td>\n",
       "      <td>32.000000</td>\n",
       "      <td>0</td>\n",
       "      <td>0</td>\n",
       "      <td>0</td>\n",
       "      <td>0</td>\n",
       "      <td>1</td>\n",
       "    </tr>\n",
       "  </tbody>\n",
       "</table>\n",
       "</div>"
      ],
      "text/plain": [
       "                 TEMP       PSAL  TEMP_QC  PSAL_QC  TEMP_QC_QC  PSAL_QC_QC  \\\n",
       "2018-01-01  10.000000  28.000000        0        0           0           0   \n",
       "2018-01-02   9.264276  28.645437        0        0           0           0   \n",
       "2018-01-03   9.003416  30.165159        0        0           0           0   \n",
       "2018-01-04   9.385787  31.578281        0        0           0           0   \n",
       "2018-01-05  10.164595  31.972723        0        0           0           0   \n",
       "2018-01-06  10.837166  31.093896        0        0           0           0   \n",
       "2018-01-07  10.969400  29.509029        0        0           0           0   \n",
       "2018-01-08  10.475947  28.241052        0        0           0           0   \n",
       "2018-01-09   9.675301  28.108366        0        0           0           0   \n",
       "2018-01-10   9.084227  29.196609        0        0           0           0   \n",
       "2018-01-11   9.084227  30.803391        0        0           0           0   \n",
       "2018-01-12   9.675301  31.891634        0        0           0           0   \n",
       "2018-01-13  10.475947  31.758948        0        0           0           0   \n",
       "2018-01-14  10.969400  30.490971        0        0           0           0   \n",
       "2018-01-15  10.837166  28.906104        0        0           0           0   \n",
       "2018-01-16  10.164595  28.027277        0        0           0           0   \n",
       "2018-01-17   9.385787  28.421719        0        0           0           0   \n",
       "2018-01-18   9.003416  29.834841        0        0           0           0   \n",
       "2018-01-19   9.264276  31.354563        0        0           0           0   \n",
       "2018-01-20  10.000000  32.000000        0        0           0           0   \n",
       "\n",
       "            filter  \n",
       "2018-01-01       1  \n",
       "2018-01-02       1  \n",
       "2018-01-03       1  \n",
       "2018-01-04       1  \n",
       "2018-01-05       0  \n",
       "2018-01-06       0  \n",
       "2018-01-07       0  \n",
       "2018-01-08       0  \n",
       "2018-01-09       1  \n",
       "2018-01-10       1  \n",
       "2018-01-11       1  \n",
       "2018-01-12       1  \n",
       "2018-01-13       1  \n",
       "2018-01-14       1  \n",
       "2018-01-15       0  \n",
       "2018-01-16       0  \n",
       "2018-01-17       0  \n",
       "2018-01-18       0  \n",
       "2018-01-19       1  \n",
       "2018-01-20       1  "
      ]
     },
     "execution_count": 32,
     "metadata": {},
     "output_type": "execute_result"
    }
   ],
   "source": [
    "wf2 = wf.copy()\n",
    "wf2['filter'] = [1,1,1,1,0,0,0,0,1,1,1,1,1,1,0,0,0,0,1,1]\n",
    "wf2.data"
   ]
  },
  {
   "cell_type": "code",
   "execution_count": 34,
   "metadata": {},
   "outputs": [
    {
     "data": {
      "text/html": [
       "<div>\n",
       "<style scoped>\n",
       "    .dataframe tbody tr th:only-of-type {\n",
       "        vertical-align: middle;\n",
       "    }\n",
       "\n",
       "    .dataframe tbody tr th {\n",
       "        vertical-align: top;\n",
       "    }\n",
       "\n",
       "    .dataframe thead th {\n",
       "        text-align: right;\n",
       "    }\n",
       "</style>\n",
       "<table border=\"1\" class=\"dataframe\">\n",
       "  <thead>\n",
       "    <tr style=\"text-align: right;\">\n",
       "      <th></th>\n",
       "      <th>TEMP</th>\n",
       "      <th>PSAL</th>\n",
       "      <th>TEMP_QC</th>\n",
       "      <th>PSAL_QC</th>\n",
       "      <th>TEMP_QC_QC</th>\n",
       "      <th>PSAL_QC_QC</th>\n",
       "      <th>filter</th>\n",
       "    </tr>\n",
       "  </thead>\n",
       "  <tbody>\n",
       "    <tr>\n",
       "      <th>2018-01-01</th>\n",
       "      <td>10.000000</td>\n",
       "      <td>28.000000</td>\n",
       "      <td>0</td>\n",
       "      <td>0</td>\n",
       "      <td>0</td>\n",
       "      <td>0</td>\n",
       "      <td>1</td>\n",
       "    </tr>\n",
       "    <tr>\n",
       "      <th>2018-01-02</th>\n",
       "      <td>9.264276</td>\n",
       "      <td>28.645437</td>\n",
       "      <td>0</td>\n",
       "      <td>0</td>\n",
       "      <td>0</td>\n",
       "      <td>0</td>\n",
       "      <td>1</td>\n",
       "    </tr>\n",
       "    <tr>\n",
       "      <th>2018-01-03</th>\n",
       "      <td>9.003416</td>\n",
       "      <td>30.165159</td>\n",
       "      <td>0</td>\n",
       "      <td>0</td>\n",
       "      <td>0</td>\n",
       "      <td>0</td>\n",
       "      <td>1</td>\n",
       "    </tr>\n",
       "    <tr>\n",
       "      <th>2018-01-04</th>\n",
       "      <td>9.385787</td>\n",
       "      <td>31.578281</td>\n",
       "      <td>0</td>\n",
       "      <td>0</td>\n",
       "      <td>0</td>\n",
       "      <td>0</td>\n",
       "      <td>1</td>\n",
       "    </tr>\n",
       "    <tr>\n",
       "      <th>2018-01-09</th>\n",
       "      <td>9.675301</td>\n",
       "      <td>28.108366</td>\n",
       "      <td>0</td>\n",
       "      <td>0</td>\n",
       "      <td>0</td>\n",
       "      <td>0</td>\n",
       "      <td>1</td>\n",
       "    </tr>\n",
       "    <tr>\n",
       "      <th>2018-01-10</th>\n",
       "      <td>9.084227</td>\n",
       "      <td>29.196609</td>\n",
       "      <td>0</td>\n",
       "      <td>0</td>\n",
       "      <td>0</td>\n",
       "      <td>0</td>\n",
       "      <td>1</td>\n",
       "    </tr>\n",
       "    <tr>\n",
       "      <th>2018-01-11</th>\n",
       "      <td>9.084227</td>\n",
       "      <td>30.803391</td>\n",
       "      <td>0</td>\n",
       "      <td>0</td>\n",
       "      <td>0</td>\n",
       "      <td>0</td>\n",
       "      <td>1</td>\n",
       "    </tr>\n",
       "    <tr>\n",
       "      <th>2018-01-12</th>\n",
       "      <td>9.675301</td>\n",
       "      <td>31.891634</td>\n",
       "      <td>0</td>\n",
       "      <td>0</td>\n",
       "      <td>0</td>\n",
       "      <td>0</td>\n",
       "      <td>1</td>\n",
       "    </tr>\n",
       "    <tr>\n",
       "      <th>2018-01-13</th>\n",
       "      <td>10.475947</td>\n",
       "      <td>31.758948</td>\n",
       "      <td>0</td>\n",
       "      <td>0</td>\n",
       "      <td>0</td>\n",
       "      <td>0</td>\n",
       "      <td>1</td>\n",
       "    </tr>\n",
       "    <tr>\n",
       "      <th>2018-01-14</th>\n",
       "      <td>10.969400</td>\n",
       "      <td>30.490971</td>\n",
       "      <td>0</td>\n",
       "      <td>0</td>\n",
       "      <td>0</td>\n",
       "      <td>0</td>\n",
       "      <td>1</td>\n",
       "    </tr>\n",
       "    <tr>\n",
       "      <th>2018-01-19</th>\n",
       "      <td>9.264276</td>\n",
       "      <td>31.354563</td>\n",
       "      <td>0</td>\n",
       "      <td>0</td>\n",
       "      <td>0</td>\n",
       "      <td>0</td>\n",
       "      <td>1</td>\n",
       "    </tr>\n",
       "    <tr>\n",
       "      <th>2018-01-20</th>\n",
       "      <td>10.000000</td>\n",
       "      <td>32.000000</td>\n",
       "      <td>0</td>\n",
       "      <td>0</td>\n",
       "      <td>0</td>\n",
       "      <td>0</td>\n",
       "      <td>1</td>\n",
       "    </tr>\n",
       "  </tbody>\n",
       "</table>\n",
       "</div>"
      ],
      "text/plain": [
       "                 TEMP       PSAL  TEMP_QC  PSAL_QC  TEMP_QC_QC  PSAL_QC_QC  \\\n",
       "2018-01-01  10.000000  28.000000        0        0           0           0   \n",
       "2018-01-02   9.264276  28.645437        0        0           0           0   \n",
       "2018-01-03   9.003416  30.165159        0        0           0           0   \n",
       "2018-01-04   9.385787  31.578281        0        0           0           0   \n",
       "2018-01-09   9.675301  28.108366        0        0           0           0   \n",
       "2018-01-10   9.084227  29.196609        0        0           0           0   \n",
       "2018-01-11   9.084227  30.803391        0        0           0           0   \n",
       "2018-01-12   9.675301  31.891634        0        0           0           0   \n",
       "2018-01-13  10.475947  31.758948        0        0           0           0   \n",
       "2018-01-14  10.969400  30.490971        0        0           0           0   \n",
       "2018-01-19   9.264276  31.354563        0        0           0           0   \n",
       "2018-01-20  10.000000  32.000000        0        0           0           0   \n",
       "\n",
       "            filter  \n",
       "2018-01-01       1  \n",
       "2018-01-02       1  \n",
       "2018-01-03       1  \n",
       "2018-01-04       1  \n",
       "2018-01-09       1  \n",
       "2018-01-10       1  \n",
       "2018-01-11       1  \n",
       "2018-01-12       1  \n",
       "2018-01-13       1  \n",
       "2018-01-14       1  \n",
       "2018-01-19       1  \n",
       "2018-01-20       1  "
      ]
     },
     "execution_count": 34,
     "metadata": {},
     "output_type": "execute_result"
    }
   ],
   "source": [
    "wf2[wf2['filter'].isin(['1'])]"
   ]
  },
  {
   "cell_type": "code",
   "execution_count": null,
   "metadata": {},
   "outputs": [],
   "source": []
  }
 ],
 "metadata": {
  "kernelspec": {
   "display_name": "Python 3",
   "language": "python",
   "name": "python3"
  },
  "language_info": {
   "codemirror_mode": {
    "name": "ipython",
    "version": 3
   },
   "file_extension": ".py",
   "mimetype": "text/x-python",
   "name": "python",
   "nbconvert_exporter": "python",
   "pygments_lexer": "ipython3",
   "version": "3.7.0"
  }
 },
 "nbformat": 4,
 "nbformat_minor": 2
}
