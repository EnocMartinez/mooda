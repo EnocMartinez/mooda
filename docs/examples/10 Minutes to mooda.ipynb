{
 "cells": [
  {
   "cell_type": "markdown",
   "metadata": {},
   "source": [
    "# 10 Minutes to mooda\n",
    "\n",
    "This is a introduction to mooda and the WaterFrame.\n",
    "\n",
    "A WaterFrame contains three essential elements:\n",
    "\n",
    "* A pandas DataFrame, located into WaterFrame.data\n",
    "* A metadata dictionary, located into WaterFrame.metadata\n",
    "* A meaning dictionary, located into WaterFrame.meaning\n",
    "\n",
    "The **metadata dictionary** contains information about the DataFrame, i.e. The location of the measurements, the instrument models, some extra notes.\n",
    "\n",
    "The **meaning dictionary** contains information about the meaning of the keys of the DataFrame. For example, if the DataFrame contains a key called \"TEMP\", in the meaning dictionary will be the information that explains that \"TEMP\" means \"Seawater temperature.\"\n",
    "\n",
    "There are two types of columns in the pandas DataFrame:\n",
    "\n",
    "* **Parameter columns**: Columns that contain values of a parameter. The key of the column is the name of the parameter.\n",
    "* **Quality Control columns**: Columns that contain the Quality Control Flag of the values of a parameter. The key of the column is named such as **{parameter name}_QC**.\n",
    "\n",
    "The **index** of the pandas DataFrame must be **TIME**.\n"
   ]
  },
  {
   "cell_type": "markdown",
   "metadata": {},
   "source": [
    "Customarily, we import as follows:"
   ]
  },
  {
   "cell_type": "code",
   "execution_count": 165,
   "metadata": {},
   "outputs": [],
   "source": [
    "from mooda import WaterFrame\n",
    "import numpy as np\n",
    "import pandas as pd"
   ]
  },
  {
   "cell_type": "markdown",
   "metadata": {},
   "source": [
    "## Object creation\n",
    "\n",
    "Creating an empty [WaterFrame](https://github.com/rbardaji/mooda/blob/master/docs/api_reference/waterframe/__init__.md):"
   ]
  },
  {
   "cell_type": "code",
   "execution_count": 166,
   "metadata": {},
   "outputs": [
    {
     "data": {
      "text/plain": [
       "Memory usage: 264.00 Bytes\n",
       "There is no data."
      ]
     },
     "execution_count": 166,
     "metadata": {},
     "output_type": "execute_result"
    }
   ],
   "source": [
    "wf0 = WaterFrame()\n",
    "wf0"
   ]
  },
  {
   "cell_type": "markdown",
   "metadata": {},
   "source": [
    "Creating a [WaterFrame](https://github.com/rbardaji/mooda/blob/master/docs/api_reference/waterframe/__init__.md) from a [pandas DataFrame]((https://github.com/rbardaji/mooda/blob/master/docs/api_reference/waterframe/from_dataframe.md)), a metadata dictionary and a meanings dictionary:"
   ]
  },
  {
   "cell_type": "code",
   "execution_count": 167,
   "metadata": {},
   "outputs": [
    {
     "data": {
      "text/plain": [
       "Memory usage: 664.00 Bytes\n",
       "Parameters:\n",
       "  - TEMP: sea_water_temperature (degree_celsius)\n",
       "    - Min value: 9.015\n",
       "    - Date min value: 2018-01-02 00:00:00\n",
       "    - Max value: 10.866\n",
       "    - Date max value: 2018-01-04 00:00:00\n",
       "    - Mean value: 9.916\n",
       "    - Values with QC = 1: 0.000 %\n",
       "  - PSAL: sea_water_practical_salinity (PSU)\n",
       "    - Min value: 28.000\n",
       "    - Date min value: 2018-01-01 00:00:00\n",
       "    - Max value: 32.000\n",
       "    - Date max value: 2018-01-10 00:00:00\n",
       "    - Mean value: 30.000\n",
       "    - Values with QC = 1: 0.000 %"
      ]
     },
     "execution_count": 167,
     "metadata": {},
     "output_type": "execute_result"
    }
   ],
   "source": [
    "# Creating a DataFrame\n",
    "number_of_values = 10\n",
    "dates = pd.date_range('20180101000000', periods=number_of_values)\n",
    "x = np.linspace(-np.pi, 4*np.pi, number_of_values)\n",
    "df = pd.DataFrame({'TEMP': np.sin(x)+10, 'PSAL': np.cos(x)*2 + 30}, index=dates)\n",
    "df.index.name = 'TIME'\n",
    "\n",
    "# Creating metadata information\n",
    "metadata = dict()\n",
    "metadata['instrument'] = 'CTD'\n",
    "metadata['latitude'] = '42.03'\n",
    "metadata['longitude'] = '2.11'\n",
    "\n",
    "# Creating parameter meanings\n",
    "meaning = dict()\n",
    "meaning['TEMP'] = {'long_name': 'sea_water_temperature',\n",
    "                    'units': 'degree_celsius'}\n",
    "meaning['PSAL'] = {'long_name': 'sea_water_practical_salinity',\n",
    "                   'units': 'PSU'}\n",
    "\n",
    "# Creating the WaterFrame\n",
    "wf1 = WaterFrame(df=df, metadata=metadata, meaning=meaning)\n",
    "wf1"
   ]
  },
  {
   "cell_type": "markdown",
   "metadata": {},
   "source": [
    "Creating a [WaterFrame](https://github.com/rbardaji/mooda/blob/master/docs/api_reference/waterframe/__init__.md) from a [NetCDF](https://github.com/rbardaji/mooda/blob/master/docs/api_reference/waterframe/from_netcdf.md) file:"
   ]
  },
  {
   "cell_type": "code",
   "execution_count": 168,
   "metadata": {},
   "outputs": [
    {
     "data": {
      "text/plain": [
       "Memory usage: 584.00 Bytes\n",
       "Parameters:\n",
       "  - TEMP: sea_water_temperature (degree_celsius)\n",
       "    - Min value: 9.015\n",
       "    - Date min value: 2018-01-02 00:00:00\n",
       "    - Max value: 10.866\n",
       "    - Date max value: 2018-01-04 00:00:00\n",
       "    - Mean value: 9.916\n",
       "    - Values with QC = 1: 0.000 %\n",
       "  - PSAL: sea_water_practical_salinity (PSU)\n",
       "    - Min value: 28.000\n",
       "    - Date min value: 2018-01-01 00:00:00\n",
       "    - Max value: 32.000\n",
       "    - Date max value: 2018-01-10 00:00:00\n",
       "    - Mean value: 30.000\n",
       "    - Values with QC = 1: 0.000 %"
      ]
     },
     "execution_count": 168,
     "metadata": {},
     "output_type": "execute_result"
    }
   ],
   "source": [
    "path_netcdf = r\"C:\\Users\\rbard\\Google Drive\\ok\\git\\mooda\\docs\\examples\\example_data\\example.nc\"\n",
    "wf2 = WaterFrame(path=path_netcdf)\n",
    "wf2"
   ]
  },
  {
   "cell_type": "markdown",
   "metadata": {},
   "source": [
    "Creating a [WaterFrame](https://github.com/rbardaji/mooda/blob/master/docs/api_reference/waterframe/__init__.md) from a [CSV](https://github.com/rbardaji/mooda/blob/master/docs/api_reference/waterframe/from_csv.md) file:"
   ]
  },
  {
   "cell_type": "code",
   "execution_count": 169,
   "metadata": {},
   "outputs": [
    {
     "data": {
      "text/plain": [
       "Memory usage: 1.41 KBytes\n",
       "Parameters:\n",
       "  - TEMP: Parameter without meaning\n",
       "    - Min value: 9.015\n",
       "    - Date min value: 2018-01-02\n",
       "    - Max value: 10.866\n",
       "    - Date max value: 2018-01-04\n",
       "    - Mean value: 9.916\n",
       "    - Values with QC = 1: 0.000 %\n",
       "  - PSAL: Parameter without meaning\n",
       "    - Min value: 28.000\n",
       "    - Date min value: 2018-01-01\n",
       "    - Max value: 32.000\n",
       "    - Date max value: 2018-01-10\n",
       "    - Mean value: 30.000\n",
       "    - Values with QC = 1: 0.000 %"
      ]
     },
     "execution_count": 169,
     "metadata": {},
     "output_type": "execute_result"
    }
   ],
   "source": [
    "path_csv = r\"C:\\Users\\rbard\\Google Drive\\ok\\git\\mooda\\docs\\examples\\example_data\\example.csv\"\n",
    "wf3 = WaterFrame()\n",
    "wf3.from_csv(path_csv, comment=\"#\", sep=\";\", index_col=0)\n",
    "wf3"
   ]
  },
  {
   "cell_type": "markdown",
   "metadata": {},
   "source": [
    "## Viewing data"
   ]
  },
  {
   "cell_type": "markdown",
   "metadata": {},
   "source": [
    "Display the [metadata information](https://github.com/rbardaji/mooda/blob/master/docs/api_reference/waterframe/info_metadata.md):"
   ]
  },
  {
   "cell_type": "code",
   "execution_count": 170,
   "metadata": {},
   "outputs": [
    {
     "name": "stdout",
     "output_type": "stream",
     "text": [
      "METADATA:\n",
      "  - instrument: CTD\n",
      "  - latitude: 42.03\n",
      "  - longitude: 2.11\n"
     ]
    }
   ],
   "source": [
    "print(\"METADATA:\")\n",
    "print(wf1.info_metadata())"
   ]
  },
  {
   "cell_type": "markdown",
   "metadata": {},
   "source": [
    "Display the [meaning information](https://github.com/rbardaji/mooda/blob/master/docs/api_reference/waterframe/info_meaning.md):"
   ]
  },
  {
   "cell_type": "code",
   "execution_count": 171,
   "metadata": {},
   "outputs": [
    {
     "name": "stdout",
     "output_type": "stream",
     "text": [
      "MEANING:\n",
      "  - TEMP\n",
      "    - long_name: sea_water_temperature\n",
      "    - units: degree_celsius\n",
      "  - PSAL\n",
      "    - long_name: sea_water_practical_salinity\n",
      "    - units: PSU\n"
     ]
    }
   ],
   "source": [
    "print(\"MEANING:\")\n",
    "print(wf1.info_meaning())"
   ]
  },
  {
   "cell_type": "markdown",
   "metadata": {},
   "source": [
    "[parameters()](https://github.com/rbardaji/mooda/blob/master/docs/api_reference/waterframe/parameters.md) returns a list with the keys of the DataFrame, but expluding the QC columns."
   ]
  },
  {
   "cell_type": "code",
   "execution_count": 172,
   "metadata": {},
   "outputs": [
    {
     "data": {
      "text/plain": [
       "['TEMP', 'PSAL']"
      ]
     },
     "execution_count": 172,
     "metadata": {},
     "output_type": "execute_result"
    }
   ],
   "source": [
    "wf1.parameters()"
   ]
  },
  {
   "cell_type": "markdown",
   "metadata": {},
   "source": [
    "Checking the [min](https://github.com/rbardaji/mooda/blob/master/docs/api_reference/waterframe/min.md), [max](https://github.com/rbardaji/mooda/blob/master/docs/api_reference/waterframe/max.md) and [mean](https://github.com/rbardaji/mooda/blob/master/docs/api_reference/waterframe/mean.md) of a parameter:"
   ]
  },
  {
   "cell_type": "code",
   "execution_count": 173,
   "metadata": {},
   "outputs": [
    {
     "name": "stdout",
     "output_type": "stream",
     "text": [
      "TEMPERATURE INFO:\n",
      "Min value: 9.015192246987793, at 2018-01-02\n",
      "Max value: 10.86602540378444, at 2018-01-04\n",
      "Mean value: 9.916090036882272\n"
     ]
    }
   ],
   "source": [
    "time_min, value_min = wf.min('TEMP')\n",
    "time_max, value_max = wf.max('TEMP')\n",
    "value_mean = wf.mean('TEMP')\n",
    "\n",
    "print(\"TEMPERATURE INFO:\")\n",
    "print(f\"Min value: {value_min}, at {time_min}\")\n",
    "print(f\"Max value: {value_max}, at {time_max}\")\n",
    "print(f\"Mean value: {value_mean}\")"
   ]
  },
  {
   "cell_type": "markdown",
   "metadata": {},
   "source": [
    "Know how many RAM [memory](https://github.com/rbardaji/mooda/blob/master/docs/api_reference/waterframe/momory_usage.md) is using the WaterFrame."
   ]
  },
  {
   "cell_type": "code",
   "execution_count": 174,
   "metadata": {},
   "outputs": [
    {
     "name": "stdout",
     "output_type": "stream",
     "text": [
      "664 Bytes\n"
     ]
    }
   ],
   "source": [
    "print(wf1.memory_usage(), \"Bytes\")"
   ]
  },
  {
   "cell_type": "markdown",
   "metadata": {},
   "source": [
    "## Selection "
   ]
  },
  {
   "cell_type": "markdown",
   "metadata": {},
   "source": [
    "### Getting metadata"
   ]
  },
  {
   "cell_type": "markdown",
   "metadata": {},
   "source": [
    "Here is how to access to the metadata diccionary:"
   ]
  },
  {
   "cell_type": "code",
   "execution_count": 175,
   "metadata": {},
   "outputs": [
    {
     "data": {
      "text/plain": [
       "{'instrument': 'CTD', 'latitude': '42.03', 'longitude': '2.11'}"
      ]
     },
     "execution_count": 175,
     "metadata": {},
     "output_type": "execute_result"
    }
   ],
   "source": [
    "wf1.metadata"
   ]
  },
  {
   "cell_type": "markdown",
   "metadata": {},
   "source": [
    "Adding new element to the metadata:"
   ]
  },
  {
   "cell_type": "code",
   "execution_count": 176,
   "metadata": {},
   "outputs": [
    {
     "data": {
      "text/plain": [
       "{'instrument': 'CTD',\n",
       " 'latitude': '42.03',\n",
       " 'longitude': '2.11',\n",
       " 'new information': 'example of indformation'}"
      ]
     },
     "execution_count": 176,
     "metadata": {},
     "output_type": "execute_result"
    }
   ],
   "source": [
    "wf1.metadata['new information'] = 'example of indformation'\n",
    "wf1.metadata"
   ]
  },
  {
   "cell_type": "markdown",
   "metadata": {},
   "source": [
    "Deleting an element of the metadata:"
   ]
  },
  {
   "cell_type": "code",
   "execution_count": 177,
   "metadata": {},
   "outputs": [
    {
     "data": {
      "text/plain": [
       "{'instrument': 'CTD', 'latitude': '42.03', 'longitude': '2.11'}"
      ]
     },
     "execution_count": 177,
     "metadata": {},
     "output_type": "execute_result"
    }
   ],
   "source": [
    "del wf1.metadata['new information']\n",
    "wf1.metadata"
   ]
  },
  {
   "cell_type": "markdown",
   "metadata": {},
   "source": [
    "### Getting meaning "
   ]
  },
  {
   "cell_type": "markdown",
   "metadata": {},
   "source": [
    "Here is how to access to the meaning dictionary:"
   ]
  },
  {
   "cell_type": "code",
   "execution_count": 178,
   "metadata": {},
   "outputs": [
    {
     "data": {
      "text/plain": [
       "{'TEMP': {'long_name': 'sea_water_temperature', 'units': 'degree_celsius'},\n",
       " 'PSAL': {'long_name': 'sea_water_practical_salinity', 'units': 'PSU'}}"
      ]
     },
     "execution_count": 178,
     "metadata": {},
     "output_type": "execute_result"
    }
   ],
   "source": [
    "wf1.meaning"
   ]
  },
  {
   "cell_type": "markdown",
   "metadata": {},
   "source": [
    "Display an element of meaning:"
   ]
  },
  {
   "cell_type": "code",
   "execution_count": 179,
   "metadata": {},
   "outputs": [
    {
     "data": {
      "text/plain": [
       "{'long_name': 'sea_water_temperature', 'units': 'degree_celsius'}"
      ]
     },
     "execution_count": 179,
     "metadata": {},
     "output_type": "execute_result"
    }
   ],
   "source": [
    "wf1.meaning['TEMP']"
   ]
  },
  {
   "cell_type": "code",
   "execution_count": 180,
   "metadata": {},
   "outputs": [
    {
     "data": {
      "text/plain": [
       "'sea_water_temperature'"
      ]
     },
     "execution_count": 180,
     "metadata": {},
     "output_type": "execute_result"
    }
   ],
   "source": [
    "wf1.meaning['TEMP']['long_name']"
   ]
  },
  {
   "cell_type": "markdown",
   "metadata": {},
   "source": [
    "Adding new element to meaning:"
   ]
  },
  {
   "cell_type": "code",
   "execution_count": 181,
   "metadata": {},
   "outputs": [
    {
     "data": {
      "text/plain": [
       "{'long_name': 'sea_water_temperature',\n",
       " 'units': 'degree_celsius',\n",
       " 'other_name': 'other name for the parameter'}"
      ]
     },
     "execution_count": 181,
     "metadata": {},
     "output_type": "execute_result"
    }
   ],
   "source": [
    "wf.meaning['TEMP']['other_name'] = 'other name for the parameter'\n",
    "wf.meaning['TEMP']"
   ]
  },
  {
   "cell_type": "markdown",
   "metadata": {},
   "source": [
    "Delete an element of meaning:"
   ]
  },
  {
   "cell_type": "code",
   "execution_count": 182,
   "metadata": {},
   "outputs": [
    {
     "data": {
      "text/plain": [
       "{'long_name': 'sea_water_temperature', 'units': 'degree_celsius'}"
      ]
     },
     "execution_count": 182,
     "metadata": {},
     "output_type": "execute_result"
    }
   ],
   "source": [
    "del wf.meaning['TEMP']['other_name']\n",
    "wf.meaning['TEMP']"
   ]
  },
  {
   "cell_type": "markdown",
   "metadata": {},
   "source": [
    "### Getting data"
   ]
  },
  {
   "cell_type": "markdown",
   "metadata": {},
   "source": [
    "WaterFrame.data is a pandas DataFrame. You can use all the pandas Dataframe methods.\n",
    "This is how to access to the DataFrame:"
   ]
  },
  {
   "cell_type": "code",
   "execution_count": 183,
   "metadata": {},
   "outputs": [
    {
     "data": {
      "text/html": [
       "<div>\n",
       "<style scoped>\n",
       "    .dataframe tbody tr th:only-of-type {\n",
       "        vertical-align: middle;\n",
       "    }\n",
       "\n",
       "    .dataframe tbody tr th {\n",
       "        vertical-align: top;\n",
       "    }\n",
       "\n",
       "    .dataframe thead th {\n",
       "        text-align: right;\n",
       "    }\n",
       "</style>\n",
       "<table border=\"1\" class=\"dataframe\">\n",
       "  <thead>\n",
       "    <tr style=\"text-align: right;\">\n",
       "      <th></th>\n",
       "      <th>TEMP</th>\n",
       "      <th>PSAL</th>\n",
       "      <th>TEMP_QC</th>\n",
       "      <th>PSAL_QC</th>\n",
       "    </tr>\n",
       "    <tr>\n",
       "      <th>TIME</th>\n",
       "      <th></th>\n",
       "      <th></th>\n",
       "      <th></th>\n",
       "      <th></th>\n",
       "    </tr>\n",
       "  </thead>\n",
       "  <tbody>\n",
       "    <tr>\n",
       "      <th>2018-01-01</th>\n",
       "      <td>10.000000</td>\n",
       "      <td>28.000000</td>\n",
       "      <td>0</td>\n",
       "      <td>0</td>\n",
       "    </tr>\n",
       "    <tr>\n",
       "      <th>2018-01-02</th>\n",
       "      <td>9.015192</td>\n",
       "      <td>30.347296</td>\n",
       "      <td>0</td>\n",
       "      <td>0</td>\n",
       "    </tr>\n",
       "    <tr>\n",
       "      <th>2018-01-03</th>\n",
       "      <td>10.342020</td>\n",
       "      <td>31.879385</td>\n",
       "      <td>0</td>\n",
       "      <td>0</td>\n",
       "    </tr>\n",
       "    <tr>\n",
       "      <th>2018-01-04</th>\n",
       "      <td>10.866025</td>\n",
       "      <td>29.000000</td>\n",
       "      <td>0</td>\n",
       "      <td>0</td>\n",
       "    </tr>\n",
       "    <tr>\n",
       "      <th>2018-01-05</th>\n",
       "      <td>9.357212</td>\n",
       "      <td>28.467911</td>\n",
       "      <td>0</td>\n",
       "      <td>0</td>\n",
       "    </tr>\n",
       "    <tr>\n",
       "      <th>2018-01-06</th>\n",
       "      <td>9.357212</td>\n",
       "      <td>31.532089</td>\n",
       "      <td>0</td>\n",
       "      <td>0</td>\n",
       "    </tr>\n",
       "    <tr>\n",
       "      <th>2018-01-07</th>\n",
       "      <td>10.866025</td>\n",
       "      <td>31.000000</td>\n",
       "      <td>0</td>\n",
       "      <td>0</td>\n",
       "    </tr>\n",
       "    <tr>\n",
       "      <th>2018-01-08</th>\n",
       "      <td>10.342020</td>\n",
       "      <td>28.120615</td>\n",
       "      <td>0</td>\n",
       "      <td>0</td>\n",
       "    </tr>\n",
       "    <tr>\n",
       "      <th>2018-01-09</th>\n",
       "      <td>9.015192</td>\n",
       "      <td>29.652704</td>\n",
       "      <td>0</td>\n",
       "      <td>0</td>\n",
       "    </tr>\n",
       "    <tr>\n",
       "      <th>2018-01-10</th>\n",
       "      <td>10.000000</td>\n",
       "      <td>32.000000</td>\n",
       "      <td>0</td>\n",
       "      <td>0</td>\n",
       "    </tr>\n",
       "  </tbody>\n",
       "</table>\n",
       "</div>"
      ],
      "text/plain": [
       "                 TEMP       PSAL  TEMP_QC  PSAL_QC\n",
       "TIME                                              \n",
       "2018-01-01  10.000000  28.000000        0        0\n",
       "2018-01-02   9.015192  30.347296        0        0\n",
       "2018-01-03  10.342020  31.879385        0        0\n",
       "2018-01-04  10.866025  29.000000        0        0\n",
       "2018-01-05   9.357212  28.467911        0        0\n",
       "2018-01-06   9.357212  31.532089        0        0\n",
       "2018-01-07  10.866025  31.000000        0        0\n",
       "2018-01-08  10.342020  28.120615        0        0\n",
       "2018-01-09   9.015192  29.652704        0        0\n",
       "2018-01-10  10.000000  32.000000        0        0"
      ]
     },
     "execution_count": 183,
     "metadata": {},
     "output_type": "execute_result"
    }
   ],
   "source": [
    "wf1.data"
   ]
  },
  {
   "cell_type": "markdown",
   "metadata": {},
   "source": [
    "However, you can select a single column, which yields a Series, equivalent to *wf.data.TEMP*:"
   ]
  },
  {
   "cell_type": "code",
   "execution_count": 184,
   "metadata": {},
   "outputs": [
    {
     "data": {
      "text/plain": [
       "TIME\n",
       "2018-01-01    10.000000\n",
       "2018-01-02     9.015192\n",
       "2018-01-03    10.342020\n",
       "2018-01-04    10.866025\n",
       "2018-01-05     9.357212\n",
       "2018-01-06     9.357212\n",
       "2018-01-07    10.866025\n",
       "2018-01-08    10.342020\n",
       "2018-01-09     9.015192\n",
       "2018-01-10    10.000000\n",
       "Freq: D, Name: TEMP, dtype: float64"
      ]
     },
     "execution_count": 184,
     "metadata": {},
     "output_type": "execute_result"
    }
   ],
   "source": [
    "wf1['TEMP']"
   ]
  },
  {
   "cell_type": "markdown",
   "metadata": {},
   "source": [
    "Selecting via [], which slices the rows."
   ]
  },
  {
   "cell_type": "code",
   "execution_count": 185,
   "metadata": {},
   "outputs": [
    {
     "data": {
      "text/html": [
       "<div>\n",
       "<style scoped>\n",
       "    .dataframe tbody tr th:only-of-type {\n",
       "        vertical-align: middle;\n",
       "    }\n",
       "\n",
       "    .dataframe tbody tr th {\n",
       "        vertical-align: top;\n",
       "    }\n",
       "\n",
       "    .dataframe thead th {\n",
       "        text-align: right;\n",
       "    }\n",
       "</style>\n",
       "<table border=\"1\" class=\"dataframe\">\n",
       "  <thead>\n",
       "    <tr style=\"text-align: right;\">\n",
       "      <th></th>\n",
       "      <th>TEMP</th>\n",
       "      <th>PSAL</th>\n",
       "      <th>TEMP_QC</th>\n",
       "      <th>PSAL_QC</th>\n",
       "    </tr>\n",
       "    <tr>\n",
       "      <th>TIME</th>\n",
       "      <th></th>\n",
       "      <th></th>\n",
       "      <th></th>\n",
       "      <th></th>\n",
       "    </tr>\n",
       "  </thead>\n",
       "  <tbody>\n",
       "    <tr>\n",
       "      <th>2018-01-01</th>\n",
       "      <td>10.000000</td>\n",
       "      <td>28.000000</td>\n",
       "      <td>0</td>\n",
       "      <td>0</td>\n",
       "    </tr>\n",
       "    <tr>\n",
       "      <th>2018-01-02</th>\n",
       "      <td>9.015192</td>\n",
       "      <td>30.347296</td>\n",
       "      <td>0</td>\n",
       "      <td>0</td>\n",
       "    </tr>\n",
       "    <tr>\n",
       "      <th>2018-01-03</th>\n",
       "      <td>10.342020</td>\n",
       "      <td>31.879385</td>\n",
       "      <td>0</td>\n",
       "      <td>0</td>\n",
       "    </tr>\n",
       "  </tbody>\n",
       "</table>\n",
       "</div>"
      ],
      "text/plain": [
       "                 TEMP       PSAL  TEMP_QC  PSAL_QC\n",
       "TIME                                              \n",
       "2018-01-01  10.000000  28.000000        0        0\n",
       "2018-01-02   9.015192  30.347296        0        0\n",
       "2018-01-03  10.342020  31.879385        0        0"
      ]
     },
     "execution_count": 185,
     "metadata": {},
     "output_type": "execute_result"
    }
   ],
   "source": [
    "wf1[0:3]"
   ]
  },
  {
   "cell_type": "markdown",
   "metadata": {},
   "source": [
    "#### Boolean Indexing"
   ]
  },
  {
   "cell_type": "markdown",
   "metadata": {},
   "source": [
    "Using a single column’s values to select data."
   ]
  },
  {
   "cell_type": "code",
   "execution_count": 186,
   "metadata": {},
   "outputs": [
    {
     "data": {
      "text/html": [
       "<div>\n",
       "<style scoped>\n",
       "    .dataframe tbody tr th:only-of-type {\n",
       "        vertical-align: middle;\n",
       "    }\n",
       "\n",
       "    .dataframe tbody tr th {\n",
       "        vertical-align: top;\n",
       "    }\n",
       "\n",
       "    .dataframe thead th {\n",
       "        text-align: right;\n",
       "    }\n",
       "</style>\n",
       "<table border=\"1\" class=\"dataframe\">\n",
       "  <thead>\n",
       "    <tr style=\"text-align: right;\">\n",
       "      <th></th>\n",
       "      <th>TEMP</th>\n",
       "      <th>PSAL</th>\n",
       "      <th>TEMP_QC</th>\n",
       "      <th>PSAL_QC</th>\n",
       "    </tr>\n",
       "    <tr>\n",
       "      <th>TIME</th>\n",
       "      <th></th>\n",
       "      <th></th>\n",
       "      <th></th>\n",
       "      <th></th>\n",
       "    </tr>\n",
       "  </thead>\n",
       "  <tbody>\n",
       "    <tr>\n",
       "      <th>2018-01-03</th>\n",
       "      <td>10.342020</td>\n",
       "      <td>31.879385</td>\n",
       "      <td>0</td>\n",
       "      <td>0</td>\n",
       "    </tr>\n",
       "    <tr>\n",
       "      <th>2018-01-04</th>\n",
       "      <td>10.866025</td>\n",
       "      <td>29.000000</td>\n",
       "      <td>0</td>\n",
       "      <td>0</td>\n",
       "    </tr>\n",
       "    <tr>\n",
       "      <th>2018-01-07</th>\n",
       "      <td>10.866025</td>\n",
       "      <td>31.000000</td>\n",
       "      <td>0</td>\n",
       "      <td>0</td>\n",
       "    </tr>\n",
       "    <tr>\n",
       "      <th>2018-01-08</th>\n",
       "      <td>10.342020</td>\n",
       "      <td>28.120615</td>\n",
       "      <td>0</td>\n",
       "      <td>0</td>\n",
       "    </tr>\n",
       "  </tbody>\n",
       "</table>\n",
       "</div>"
      ],
      "text/plain": [
       "                 TEMP       PSAL  TEMP_QC  PSAL_QC\n",
       "TIME                                              \n",
       "2018-01-03  10.342020  31.879385        0        0\n",
       "2018-01-04  10.866025  29.000000        0        0\n",
       "2018-01-07  10.866025  31.000000        0        0\n",
       "2018-01-08  10.342020  28.120615        0        0"
      ]
     },
     "execution_count": 186,
     "metadata": {},
     "output_type": "execute_result"
    }
   ],
   "source": [
    "wf1[wf['TEMP'] > 10]"
   ]
  },
  {
   "cell_type": "markdown",
   "metadata": {},
   "source": [
    "Using the isin() method for filtering:"
   ]
  },
  {
   "cell_type": "code",
   "execution_count": 187,
   "metadata": {},
   "outputs": [
    {
     "data": {
      "text/html": [
       "<div>\n",
       "<style scoped>\n",
       "    .dataframe tbody tr th:only-of-type {\n",
       "        vertical-align: middle;\n",
       "    }\n",
       "\n",
       "    .dataframe tbody tr th {\n",
       "        vertical-align: top;\n",
       "    }\n",
       "\n",
       "    .dataframe thead th {\n",
       "        text-align: right;\n",
       "    }\n",
       "</style>\n",
       "<table border=\"1\" class=\"dataframe\">\n",
       "  <thead>\n",
       "    <tr style=\"text-align: right;\">\n",
       "      <th></th>\n",
       "      <th>TEMP</th>\n",
       "      <th>PSAL</th>\n",
       "      <th>TEMP_QC</th>\n",
       "      <th>PSAL_QC</th>\n",
       "      <th>filter</th>\n",
       "    </tr>\n",
       "    <tr>\n",
       "      <th>TIME</th>\n",
       "      <th></th>\n",
       "      <th></th>\n",
       "      <th></th>\n",
       "      <th></th>\n",
       "      <th></th>\n",
       "    </tr>\n",
       "  </thead>\n",
       "  <tbody>\n",
       "    <tr>\n",
       "      <th>2018-01-01</th>\n",
       "      <td>10.000000</td>\n",
       "      <td>28.000000</td>\n",
       "      <td>0</td>\n",
       "      <td>0</td>\n",
       "      <td>1</td>\n",
       "    </tr>\n",
       "    <tr>\n",
       "      <th>2018-01-02</th>\n",
       "      <td>9.015192</td>\n",
       "      <td>30.347296</td>\n",
       "      <td>0</td>\n",
       "      <td>0</td>\n",
       "      <td>1</td>\n",
       "    </tr>\n",
       "    <tr>\n",
       "      <th>2018-01-03</th>\n",
       "      <td>10.342020</td>\n",
       "      <td>31.879385</td>\n",
       "      <td>0</td>\n",
       "      <td>0</td>\n",
       "      <td>1</td>\n",
       "    </tr>\n",
       "    <tr>\n",
       "      <th>2018-01-04</th>\n",
       "      <td>10.866025</td>\n",
       "      <td>29.000000</td>\n",
       "      <td>0</td>\n",
       "      <td>0</td>\n",
       "      <td>1</td>\n",
       "    </tr>\n",
       "    <tr>\n",
       "      <th>2018-01-05</th>\n",
       "      <td>9.357212</td>\n",
       "      <td>28.467911</td>\n",
       "      <td>0</td>\n",
       "      <td>0</td>\n",
       "      <td>0</td>\n",
       "    </tr>\n",
       "    <tr>\n",
       "      <th>2018-01-06</th>\n",
       "      <td>9.357212</td>\n",
       "      <td>31.532089</td>\n",
       "      <td>0</td>\n",
       "      <td>0</td>\n",
       "      <td>0</td>\n",
       "    </tr>\n",
       "    <tr>\n",
       "      <th>2018-01-07</th>\n",
       "      <td>10.866025</td>\n",
       "      <td>31.000000</td>\n",
       "      <td>0</td>\n",
       "      <td>0</td>\n",
       "      <td>0</td>\n",
       "    </tr>\n",
       "    <tr>\n",
       "      <th>2018-01-08</th>\n",
       "      <td>10.342020</td>\n",
       "      <td>28.120615</td>\n",
       "      <td>0</td>\n",
       "      <td>0</td>\n",
       "      <td>0</td>\n",
       "    </tr>\n",
       "    <tr>\n",
       "      <th>2018-01-09</th>\n",
       "      <td>9.015192</td>\n",
       "      <td>29.652704</td>\n",
       "      <td>0</td>\n",
       "      <td>0</td>\n",
       "      <td>1</td>\n",
       "    </tr>\n",
       "    <tr>\n",
       "      <th>2018-01-10</th>\n",
       "      <td>10.000000</td>\n",
       "      <td>32.000000</td>\n",
       "      <td>0</td>\n",
       "      <td>0</td>\n",
       "      <td>1</td>\n",
       "    </tr>\n",
       "  </tbody>\n",
       "</table>\n",
       "</div>"
      ],
      "text/plain": [
       "                 TEMP       PSAL  TEMP_QC  PSAL_QC  filter\n",
       "TIME                                                      \n",
       "2018-01-01  10.000000  28.000000        0        0       1\n",
       "2018-01-02   9.015192  30.347296        0        0       1\n",
       "2018-01-03  10.342020  31.879385        0        0       1\n",
       "2018-01-04  10.866025  29.000000        0        0       1\n",
       "2018-01-05   9.357212  28.467911        0        0       0\n",
       "2018-01-06   9.357212  31.532089        0        0       0\n",
       "2018-01-07  10.866025  31.000000        0        0       0\n",
       "2018-01-08  10.342020  28.120615        0        0       0\n",
       "2018-01-09   9.015192  29.652704        0        0       1\n",
       "2018-01-10  10.000000  32.000000        0        0       1"
      ]
     },
     "execution_count": 187,
     "metadata": {},
     "output_type": "execute_result"
    }
   ],
   "source": [
    "wf1_copy = wf1.copy()\n",
    "wf1_copy['filter'] = [1, 1 ,1 , 1, 0, 0, 0, 0, 1, 1]\n",
    "wf1_copy.data"
   ]
  },
  {
   "cell_type": "code",
   "execution_count": 188,
   "metadata": {},
   "outputs": [
    {
     "data": {
      "text/html": [
       "<div>\n",
       "<style scoped>\n",
       "    .dataframe tbody tr th:only-of-type {\n",
       "        vertical-align: middle;\n",
       "    }\n",
       "\n",
       "    .dataframe tbody tr th {\n",
       "        vertical-align: top;\n",
       "    }\n",
       "\n",
       "    .dataframe thead th {\n",
       "        text-align: right;\n",
       "    }\n",
       "</style>\n",
       "<table border=\"1\" class=\"dataframe\">\n",
       "  <thead>\n",
       "    <tr style=\"text-align: right;\">\n",
       "      <th></th>\n",
       "      <th>TEMP</th>\n",
       "      <th>PSAL</th>\n",
       "      <th>TEMP_QC</th>\n",
       "      <th>PSAL_QC</th>\n",
       "      <th>filter</th>\n",
       "    </tr>\n",
       "    <tr>\n",
       "      <th>TIME</th>\n",
       "      <th></th>\n",
       "      <th></th>\n",
       "      <th></th>\n",
       "      <th></th>\n",
       "      <th></th>\n",
       "    </tr>\n",
       "  </thead>\n",
       "  <tbody>\n",
       "    <tr>\n",
       "      <th>2018-01-01</th>\n",
       "      <td>10.000000</td>\n",
       "      <td>28.000000</td>\n",
       "      <td>0</td>\n",
       "      <td>0</td>\n",
       "      <td>1</td>\n",
       "    </tr>\n",
       "    <tr>\n",
       "      <th>2018-01-02</th>\n",
       "      <td>9.015192</td>\n",
       "      <td>30.347296</td>\n",
       "      <td>0</td>\n",
       "      <td>0</td>\n",
       "      <td>1</td>\n",
       "    </tr>\n",
       "    <tr>\n",
       "      <th>2018-01-03</th>\n",
       "      <td>10.342020</td>\n",
       "      <td>31.879385</td>\n",
       "      <td>0</td>\n",
       "      <td>0</td>\n",
       "      <td>1</td>\n",
       "    </tr>\n",
       "    <tr>\n",
       "      <th>2018-01-04</th>\n",
       "      <td>10.866025</td>\n",
       "      <td>29.000000</td>\n",
       "      <td>0</td>\n",
       "      <td>0</td>\n",
       "      <td>1</td>\n",
       "    </tr>\n",
       "    <tr>\n",
       "      <th>2018-01-09</th>\n",
       "      <td>9.015192</td>\n",
       "      <td>29.652704</td>\n",
       "      <td>0</td>\n",
       "      <td>0</td>\n",
       "      <td>1</td>\n",
       "    </tr>\n",
       "    <tr>\n",
       "      <th>2018-01-10</th>\n",
       "      <td>10.000000</td>\n",
       "      <td>32.000000</td>\n",
       "      <td>0</td>\n",
       "      <td>0</td>\n",
       "      <td>1</td>\n",
       "    </tr>\n",
       "  </tbody>\n",
       "</table>\n",
       "</div>"
      ],
      "text/plain": [
       "                 TEMP       PSAL  TEMP_QC  PSAL_QC  filter\n",
       "TIME                                                      \n",
       "2018-01-01  10.000000  28.000000        0        0       1\n",
       "2018-01-02   9.015192  30.347296        0        0       1\n",
       "2018-01-03  10.342020  31.879385        0        0       1\n",
       "2018-01-04  10.866025  29.000000        0        0       1\n",
       "2018-01-09   9.015192  29.652704        0        0       1\n",
       "2018-01-10  10.000000  32.000000        0        0       1"
      ]
     },
     "execution_count": 188,
     "metadata": {},
     "output_type": "execute_result"
    }
   ],
   "source": [
    "wf1_copy[wf1_copy['filter'].isin(['1'])]"
   ]
  },
  {
   "cell_type": "markdown",
   "metadata": {},
   "source": [
    "### Settings"
   ]
  },
  {
   "cell_type": "markdown",
   "metadata": {},
   "source": [
    "Setting a new column automatically aligns the data by the indexes."
   ]
  },
  {
   "cell_type": "code",
   "execution_count": 189,
   "metadata": {},
   "outputs": [
    {
     "data": {
      "text/html": [
       "<div>\n",
       "<style scoped>\n",
       "    .dataframe tbody tr th:only-of-type {\n",
       "        vertical-align: middle;\n",
       "    }\n",
       "\n",
       "    .dataframe tbody tr th {\n",
       "        vertical-align: top;\n",
       "    }\n",
       "\n",
       "    .dataframe thead th {\n",
       "        text-align: right;\n",
       "    }\n",
       "</style>\n",
       "<table border=\"1\" class=\"dataframe\">\n",
       "  <thead>\n",
       "    <tr style=\"text-align: right;\">\n",
       "      <th></th>\n",
       "      <th>TEMP</th>\n",
       "      <th>PSAL</th>\n",
       "      <th>TEMP_QC</th>\n",
       "      <th>PSAL_QC</th>\n",
       "      <th>DEPTH</th>\n",
       "      <th>DEPTH_QC</th>\n",
       "    </tr>\n",
       "    <tr>\n",
       "      <th>TIME</th>\n",
       "      <th></th>\n",
       "      <th></th>\n",
       "      <th></th>\n",
       "      <th></th>\n",
       "      <th></th>\n",
       "      <th></th>\n",
       "    </tr>\n",
       "  </thead>\n",
       "  <tbody>\n",
       "    <tr>\n",
       "      <th>2018-01-01</th>\n",
       "      <td>10.000000</td>\n",
       "      <td>28.000000</td>\n",
       "      <td>0</td>\n",
       "      <td>0</td>\n",
       "      <td>1</td>\n",
       "      <td>0</td>\n",
       "    </tr>\n",
       "    <tr>\n",
       "      <th>2018-01-02</th>\n",
       "      <td>9.015192</td>\n",
       "      <td>30.347296</td>\n",
       "      <td>0</td>\n",
       "      <td>0</td>\n",
       "      <td>1</td>\n",
       "      <td>0</td>\n",
       "    </tr>\n",
       "    <tr>\n",
       "      <th>2018-01-03</th>\n",
       "      <td>10.342020</td>\n",
       "      <td>31.879385</td>\n",
       "      <td>0</td>\n",
       "      <td>0</td>\n",
       "      <td>1</td>\n",
       "      <td>0</td>\n",
       "    </tr>\n",
       "    <tr>\n",
       "      <th>2018-01-04</th>\n",
       "      <td>10.866025</td>\n",
       "      <td>29.000000</td>\n",
       "      <td>0</td>\n",
       "      <td>0</td>\n",
       "      <td>1</td>\n",
       "      <td>0</td>\n",
       "    </tr>\n",
       "    <tr>\n",
       "      <th>2018-01-05</th>\n",
       "      <td>9.357212</td>\n",
       "      <td>28.467911</td>\n",
       "      <td>0</td>\n",
       "      <td>0</td>\n",
       "      <td>1</td>\n",
       "      <td>0</td>\n",
       "    </tr>\n",
       "  </tbody>\n",
       "</table>\n",
       "</div>"
      ],
      "text/plain": [
       "                 TEMP       PSAL  TEMP_QC  PSAL_QC  DEPTH  DEPTH_QC\n",
       "TIME                                                               \n",
       "2018-01-01  10.000000  28.000000        0        0      1         0\n",
       "2018-01-02   9.015192  30.347296        0        0      1         0\n",
       "2018-01-03  10.342020  31.879385        0        0      1         0\n",
       "2018-01-04  10.866025  29.000000        0        0      1         0\n",
       "2018-01-05   9.357212  28.467911        0        0      1         0"
      ]
     },
     "execution_count": 189,
     "metadata": {},
     "output_type": "execute_result"
    }
   ],
   "source": [
    "wf1_copy2 = wf1.copy()\n",
    "wf1_copy2['DEPTH'] = 1\n",
    "wf1_copy2['DEPTH_QC'] = 0\n",
    "depth_meaning = {'long_name': 'Depth of the water column',\n",
    "                 'units': 'meters'}\n",
    "wf1_copy2.meaning['DEPTH'] = depth_meaning\n",
    "wf1_copy2.data.head()"
   ]
  },
  {
   "cell_type": "markdown",
   "metadata": {},
   "source": [
    "## Operations"
   ]
  },
  {
   "cell_type": "markdown",
   "metadata": {},
   "source": [
    "[Dropping ](https://github.com/rbardaji/mooda/blob/master/docs/api_reference/waterframe/drop.md) a parameter:"
   ]
  },
  {
   "cell_type": "code",
   "execution_count": 190,
   "metadata": {},
   "outputs": [
    {
     "data": {
      "text/plain": [
       "Memory usage: 824.00 Bytes\n",
       "Parameters:\n",
       "  - TEMP: sea_water_temperature (degree_celsius)\n",
       "    - Min value: 9.015\n",
       "    - Date min value: 2018-01-02 00:00:00\n",
       "    - Max value: 10.866\n",
       "    - Date max value: 2018-01-04 00:00:00\n",
       "    - Mean value: 9.916\n",
       "    - Values with QC = 1: 0.000 %\n",
       "  - PSAL: sea_water_practical_salinity (PSU)\n",
       "    - Min value: 28.000\n",
       "    - Date min value: 2018-01-01 00:00:00\n",
       "    - Max value: 32.000\n",
       "    - Date max value: 2018-01-10 00:00:00\n",
       "    - Mean value: 30.000\n",
       "    - Values with QC = 1: 0.000 %\n",
       "  - DEPTH: Depth of the water column (meters)\n",
       "    - Min value: 1.000\n",
       "    - Date min value: 2018-01-01 00:00:00\n",
       "    - Max value: 1.000\n",
       "    - Date max value: 2018-01-01 00:00:00\n",
       "    - Mean value: 1.000\n",
       "    - Values with QC = 1: 0.000 %"
      ]
     },
     "execution_count": 190,
     "metadata": {},
     "output_type": "execute_result"
    }
   ],
   "source": [
    "wf1_copy2"
   ]
  },
  {
   "cell_type": "code",
   "execution_count": 191,
   "metadata": {},
   "outputs": [
    {
     "data": {
      "text/plain": [
       "Memory usage: 664.00 Bytes\n",
       "Parameters:\n",
       "  - TEMP: sea_water_temperature (degree_celsius)\n",
       "    - Min value: 9.015\n",
       "    - Date min value: 2018-01-02 00:00:00\n",
       "    - Max value: 10.866\n",
       "    - Date max value: 2018-01-04 00:00:00\n",
       "    - Mean value: 9.916\n",
       "    - Values with QC = 1: 0.000 %\n",
       "  - PSAL: sea_water_practical_salinity (PSU)\n",
       "    - Min value: 28.000\n",
       "    - Date min value: 2018-01-01 00:00:00\n",
       "    - Max value: 32.000\n",
       "    - Date max value: 2018-01-10 00:00:00\n",
       "    - Mean value: 30.000\n",
       "    - Values with QC = 1: 0.000 %"
      ]
     },
     "execution_count": 191,
     "metadata": {},
     "output_type": "execute_result"
    }
   ],
   "source": [
    "wf1_copy2.drop('DEPTH')\n",
    "wf1_copy2"
   ]
  },
  {
   "cell_type": "markdown",
   "metadata": {},
   "source": [
    "[Using only](https://github.com/rbardaji/mooda/blob/master/docs/api_reference/waterframe/use_only.md) the selected parameters: "
   ]
  },
  {
   "cell_type": "code",
   "execution_count": 192,
   "metadata": {},
   "outputs": [
    {
     "data": {
      "text/plain": [
       "Memory usage: 504.00 Bytes\n",
       "Parameters:\n",
       "  - TEMP: sea_water_temperature (degree_celsius)\n",
       "    - Min value: 9.015\n",
       "    - Date min value: 2018-01-02 00:00:00\n",
       "    - Max value: 10.866\n",
       "    - Date max value: 2018-01-04 00:00:00\n",
       "    - Mean value: 9.916\n",
       "    - Values with QC = 1: 0.000 %"
      ]
     },
     "execution_count": 192,
     "metadata": {},
     "output_type": "execute_result"
    }
   ],
   "source": [
    "wf1_copy2.use_only('TEMP')\n",
    "wf1_copy2"
   ]
  },
  {
   "cell_type": "markdown",
   "metadata": {},
   "source": [
    "[Renaming](https://github.com/rbardaji/mooda/blob/master/docs/api_reference/waterframe/rename.md) a parameter:"
   ]
  },
  {
   "cell_type": "code",
   "execution_count": 193,
   "metadata": {},
   "outputs": [
    {
     "data": {
      "text/plain": [
       "Memory usage: 504.00 Bytes\n",
       "Parameters:\n",
       "  - TEMPERATURE: sea_water_temperature (degree_celsius)\n",
       "    - Min value: 9.015\n",
       "    - Date min value: 2018-01-02 00:00:00\n",
       "    - Max value: 10.866\n",
       "    - Date max value: 2018-01-04 00:00:00\n",
       "    - Mean value: 9.916\n",
       "    - Values with QC = 1: 0.000 %"
      ]
     },
     "execution_count": 193,
     "metadata": {},
     "output_type": "execute_result"
    }
   ],
   "source": [
    "wf1_copy2.rename('TEMP', 'TEMPERATURE')\n",
    "wf1_copy2"
   ]
  },
  {
   "cell_type": "markdown",
   "metadata": {},
   "source": [
    "[Resamplig](https://github.com/rbardaji/mooda/blob/master/docs/api_reference/waterframe/resample.md) data:"
   ]
  },
  {
   "cell_type": "code",
   "execution_count": 194,
   "metadata": {},
   "outputs": [
    {
     "data": {
      "text/html": [
       "<div>\n",
       "<style scoped>\n",
       "    .dataframe tbody tr th:only-of-type {\n",
       "        vertical-align: middle;\n",
       "    }\n",
       "\n",
       "    .dataframe tbody tr th {\n",
       "        vertical-align: top;\n",
       "    }\n",
       "\n",
       "    .dataframe thead th {\n",
       "        text-align: right;\n",
       "    }\n",
       "</style>\n",
       "<table border=\"1\" class=\"dataframe\">\n",
       "  <thead>\n",
       "    <tr style=\"text-align: right;\">\n",
       "      <th></th>\n",
       "      <th>TEMPERATURE</th>\n",
       "      <th>TEMPERATURE_QC</th>\n",
       "    </tr>\n",
       "    <tr>\n",
       "      <th>TIME</th>\n",
       "      <th></th>\n",
       "      <th></th>\n",
       "    </tr>\n",
       "  </thead>\n",
       "  <tbody>\n",
       "    <tr>\n",
       "      <th>2018-01-01</th>\n",
       "      <td>10.000000</td>\n",
       "      <td>0</td>\n",
       "    </tr>\n",
       "    <tr>\n",
       "      <th>2018-01-02</th>\n",
       "      <td>9.015192</td>\n",
       "      <td>0</td>\n",
       "    </tr>\n",
       "    <tr>\n",
       "      <th>2018-01-03</th>\n",
       "      <td>10.342020</td>\n",
       "      <td>0</td>\n",
       "    </tr>\n",
       "    <tr>\n",
       "      <th>2018-01-04</th>\n",
       "      <td>10.866025</td>\n",
       "      <td>0</td>\n",
       "    </tr>\n",
       "    <tr>\n",
       "      <th>2018-01-05</th>\n",
       "      <td>9.357212</td>\n",
       "      <td>0</td>\n",
       "    </tr>\n",
       "  </tbody>\n",
       "</table>\n",
       "</div>"
      ],
      "text/plain": [
       "            TEMPERATURE  TEMPERATURE_QC\n",
       "TIME                                   \n",
       "2018-01-01    10.000000               0\n",
       "2018-01-02     9.015192               0\n",
       "2018-01-03    10.342020               0\n",
       "2018-01-04    10.866025               0\n",
       "2018-01-05     9.357212               0"
      ]
     },
     "execution_count": 194,
     "metadata": {},
     "output_type": "execute_result"
    }
   ],
   "source": [
    "wf1_copy2.data.head()"
   ]
  },
  {
   "cell_type": "code",
   "execution_count": 195,
   "metadata": {},
   "outputs": [
    {
     "data": {
      "text/html": [
       "<div>\n",
       "<style scoped>\n",
       "    .dataframe tbody tr th:only-of-type {\n",
       "        vertical-align: middle;\n",
       "    }\n",
       "\n",
       "    .dataframe tbody tr th {\n",
       "        vertical-align: top;\n",
       "    }\n",
       "\n",
       "    .dataframe thead th {\n",
       "        text-align: right;\n",
       "    }\n",
       "</style>\n",
       "<table border=\"1\" class=\"dataframe\">\n",
       "  <thead>\n",
       "    <tr style=\"text-align: right;\">\n",
       "      <th></th>\n",
       "      <th>TEMPERATURE</th>\n",
       "      <th>TEMPERATURE_QC</th>\n",
       "    </tr>\n",
       "    <tr>\n",
       "      <th>TIME</th>\n",
       "      <th></th>\n",
       "      <th></th>\n",
       "    </tr>\n",
       "  </thead>\n",
       "  <tbody>\n",
       "    <tr>\n",
       "      <th>2018-01-01</th>\n",
       "      <td>9.507596</td>\n",
       "      <td>0</td>\n",
       "    </tr>\n",
       "    <tr>\n",
       "      <th>2018-01-03</th>\n",
       "      <td>10.604023</td>\n",
       "      <td>0</td>\n",
       "    </tr>\n",
       "    <tr>\n",
       "      <th>2018-01-05</th>\n",
       "      <td>9.357212</td>\n",
       "      <td>0</td>\n",
       "    </tr>\n",
       "    <tr>\n",
       "      <th>2018-01-07</th>\n",
       "      <td>10.604023</td>\n",
       "      <td>0</td>\n",
       "    </tr>\n",
       "    <tr>\n",
       "      <th>2018-01-09</th>\n",
       "      <td>9.507596</td>\n",
       "      <td>0</td>\n",
       "    </tr>\n",
       "  </tbody>\n",
       "</table>\n",
       "</div>"
      ],
      "text/plain": [
       "            TEMPERATURE  TEMPERATURE_QC\n",
       "TIME                                   \n",
       "2018-01-01     9.507596               0\n",
       "2018-01-03    10.604023               0\n",
       "2018-01-05     9.357212               0\n",
       "2018-01-07    10.604023               0\n",
       "2018-01-09     9.507596               0"
      ]
     },
     "execution_count": 195,
     "metadata": {},
     "output_type": "execute_result"
    }
   ],
   "source": [
    "# One data every 2 days. It calculates the mean of the values. \n",
    "wf1_copy2.resample('2D')\n",
    "wf1_copy2.data.head()"
   ]
  },
  {
   "cell_type": "markdown",
   "metadata": {},
   "source": [
    "[Slicing](https://github.com/rbardaji/mooda/blob/master/docs/api_reference/waterframe/slice_time.md) time data:"
   ]
  },
  {
   "cell_type": "code",
   "execution_count": 196,
   "metadata": {},
   "outputs": [
    {
     "data": {
      "text/html": [
       "<div>\n",
       "<style scoped>\n",
       "    .dataframe tbody tr th:only-of-type {\n",
       "        vertical-align: middle;\n",
       "    }\n",
       "\n",
       "    .dataframe tbody tr th {\n",
       "        vertical-align: top;\n",
       "    }\n",
       "\n",
       "    .dataframe thead th {\n",
       "        text-align: right;\n",
       "    }\n",
       "</style>\n",
       "<table border=\"1\" class=\"dataframe\">\n",
       "  <thead>\n",
       "    <tr style=\"text-align: right;\">\n",
       "      <th></th>\n",
       "      <th>TEMP</th>\n",
       "      <th>PSAL</th>\n",
       "      <th>TEMP_QC</th>\n",
       "      <th>PSAL_QC</th>\n",
       "    </tr>\n",
       "    <tr>\n",
       "      <th>TIME</th>\n",
       "      <th></th>\n",
       "      <th></th>\n",
       "      <th></th>\n",
       "      <th></th>\n",
       "    </tr>\n",
       "  </thead>\n",
       "  <tbody>\n",
       "    <tr>\n",
       "      <th>2018-01-01</th>\n",
       "      <td>10.000000</td>\n",
       "      <td>28.000000</td>\n",
       "      <td>0</td>\n",
       "      <td>0</td>\n",
       "    </tr>\n",
       "    <tr>\n",
       "      <th>2018-01-02</th>\n",
       "      <td>9.015192</td>\n",
       "      <td>30.347296</td>\n",
       "      <td>0</td>\n",
       "      <td>0</td>\n",
       "    </tr>\n",
       "    <tr>\n",
       "      <th>2018-01-03</th>\n",
       "      <td>10.342020</td>\n",
       "      <td>31.879385</td>\n",
       "      <td>0</td>\n",
       "      <td>0</td>\n",
       "    </tr>\n",
       "    <tr>\n",
       "      <th>2018-01-04</th>\n",
       "      <td>10.866025</td>\n",
       "      <td>29.000000</td>\n",
       "      <td>0</td>\n",
       "      <td>0</td>\n",
       "    </tr>\n",
       "    <tr>\n",
       "      <th>2018-01-05</th>\n",
       "      <td>9.357212</td>\n",
       "      <td>28.467911</td>\n",
       "      <td>0</td>\n",
       "      <td>0</td>\n",
       "    </tr>\n",
       "    <tr>\n",
       "      <th>2018-01-06</th>\n",
       "      <td>9.357212</td>\n",
       "      <td>31.532089</td>\n",
       "      <td>0</td>\n",
       "      <td>0</td>\n",
       "    </tr>\n",
       "    <tr>\n",
       "      <th>2018-01-07</th>\n",
       "      <td>10.866025</td>\n",
       "      <td>31.000000</td>\n",
       "      <td>0</td>\n",
       "      <td>0</td>\n",
       "    </tr>\n",
       "    <tr>\n",
       "      <th>2018-01-08</th>\n",
       "      <td>10.342020</td>\n",
       "      <td>28.120615</td>\n",
       "      <td>0</td>\n",
       "      <td>0</td>\n",
       "    </tr>\n",
       "    <tr>\n",
       "      <th>2018-01-09</th>\n",
       "      <td>9.015192</td>\n",
       "      <td>29.652704</td>\n",
       "      <td>0</td>\n",
       "      <td>0</td>\n",
       "    </tr>\n",
       "    <tr>\n",
       "      <th>2018-01-10</th>\n",
       "      <td>10.000000</td>\n",
       "      <td>32.000000</td>\n",
       "      <td>0</td>\n",
       "      <td>0</td>\n",
       "    </tr>\n",
       "  </tbody>\n",
       "</table>\n",
       "</div>"
      ],
      "text/plain": [
       "                 TEMP       PSAL  TEMP_QC  PSAL_QC\n",
       "TIME                                              \n",
       "2018-01-01  10.000000  28.000000        0        0\n",
       "2018-01-02   9.015192  30.347296        0        0\n",
       "2018-01-03  10.342020  31.879385        0        0\n",
       "2018-01-04  10.866025  29.000000        0        0\n",
       "2018-01-05   9.357212  28.467911        0        0\n",
       "2018-01-06   9.357212  31.532089        0        0\n",
       "2018-01-07  10.866025  31.000000        0        0\n",
       "2018-01-08  10.342020  28.120615        0        0\n",
       "2018-01-09   9.015192  29.652704        0        0\n",
       "2018-01-10  10.000000  32.000000        0        0"
      ]
     },
     "execution_count": 196,
     "metadata": {},
     "output_type": "execute_result"
    }
   ],
   "source": [
    "wf1.data"
   ]
  },
  {
   "cell_type": "code",
   "execution_count": 197,
   "metadata": {},
   "outputs": [
    {
     "data": {
      "text/html": [
       "<div>\n",
       "<style scoped>\n",
       "    .dataframe tbody tr th:only-of-type {\n",
       "        vertical-align: middle;\n",
       "    }\n",
       "\n",
       "    .dataframe tbody tr th {\n",
       "        vertical-align: top;\n",
       "    }\n",
       "\n",
       "    .dataframe thead th {\n",
       "        text-align: right;\n",
       "    }\n",
       "</style>\n",
       "<table border=\"1\" class=\"dataframe\">\n",
       "  <thead>\n",
       "    <tr style=\"text-align: right;\">\n",
       "      <th></th>\n",
       "      <th>TEMP</th>\n",
       "      <th>PSAL</th>\n",
       "      <th>TEMP_QC</th>\n",
       "      <th>PSAL_QC</th>\n",
       "    </tr>\n",
       "    <tr>\n",
       "      <th>TIME</th>\n",
       "      <th></th>\n",
       "      <th></th>\n",
       "      <th></th>\n",
       "      <th></th>\n",
       "    </tr>\n",
       "  </thead>\n",
       "  <tbody>\n",
       "    <tr>\n",
       "      <th>2018-01-03</th>\n",
       "      <td>10.342020</td>\n",
       "      <td>31.879385</td>\n",
       "      <td>0</td>\n",
       "      <td>0</td>\n",
       "    </tr>\n",
       "    <tr>\n",
       "      <th>2018-01-04</th>\n",
       "      <td>10.866025</td>\n",
       "      <td>29.000000</td>\n",
       "      <td>0</td>\n",
       "      <td>0</td>\n",
       "    </tr>\n",
       "    <tr>\n",
       "      <th>2018-01-05</th>\n",
       "      <td>9.357212</td>\n",
       "      <td>28.467911</td>\n",
       "      <td>0</td>\n",
       "      <td>0</td>\n",
       "    </tr>\n",
       "    <tr>\n",
       "      <th>2018-01-06</th>\n",
       "      <td>9.357212</td>\n",
       "      <td>31.532089</td>\n",
       "      <td>0</td>\n",
       "      <td>0</td>\n",
       "    </tr>\n",
       "    <tr>\n",
       "      <th>2018-01-07</th>\n",
       "      <td>10.866025</td>\n",
       "      <td>31.000000</td>\n",
       "      <td>0</td>\n",
       "      <td>0</td>\n",
       "    </tr>\n",
       "  </tbody>\n",
       "</table>\n",
       "</div>"
      ],
      "text/plain": [
       "                 TEMP       PSAL  TEMP_QC  PSAL_QC\n",
       "TIME                                              \n",
       "2018-01-03  10.342020  31.879385        0        0\n",
       "2018-01-04  10.866025  29.000000        0        0\n",
       "2018-01-05   9.357212  28.467911        0        0\n",
       "2018-01-06   9.357212  31.532089        0        0\n",
       "2018-01-07  10.866025  31.000000        0        0"
      ]
     },
     "execution_count": 197,
     "metadata": {},
     "output_type": "execute_result"
    }
   ],
   "source": [
    "wf1.slice_time(start=\"20180103000000\", end=\"20180108000000\")\n",
    "wf1.data"
   ]
  },
  {
   "cell_type": "code",
   "execution_count": null,
   "metadata": {},
   "outputs": [],
   "source": []
  }
 ],
 "metadata": {
  "kernelspec": {
   "display_name": "Python 3",
   "language": "python",
   "name": "python3"
  },
  "language_info": {
   "codemirror_mode": {
    "name": "ipython",
    "version": 3
   },
   "file_extension": ".py",
   "mimetype": "text/x-python",
   "name": "python",
   "nbconvert_exporter": "python",
   "pygments_lexer": "ipython3",
   "version": "3.7.0"
  }
 },
 "nbformat": 4,
 "nbformat_minor": 2
}
