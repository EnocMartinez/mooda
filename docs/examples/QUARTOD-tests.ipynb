{
 "cells": [
  {
   "cell_type": "markdown",
   "metadata": {},
   "source": [
    "# Applying QUARTOD QC tests to a water temperature dataset"
   ]
  },
  {
   "cell_type": "markdown",
   "metadata": {},
   "source": [
    "Following the [QUARTOD manual for T&S data](https://ioos.noaa.gov/ioos-in-action/temperature-salinity/), five QC tests are listed as “required”, three as “strongly recommended”, and five as “suggested”. Here below the details for all these tests. \n",
    "\n",
    "**Required tests**\n",
    "\n",
    "1. Timing/Gap Test: Check for arrival data.\n",
    "2. Syntax Test: Expected data sentence received absence of parity errors\n",
    "3. Location test: Check for acceptable geographic location\n",
    "4. Gross Range Test: Data point exceeds sensor or operator selected min/max\n",
    "5. Climatology Test: Test that data point falls within seasonal expectations\n",
    "\n",
    "**Strongly recommended tests**\n",
    "\n",
    "6. Spike Test: Data point n-1 exceeds a selected threshold relative to adjacent data points\n",
    "7. Rate of Change Test: Excessive rise/fall test\n",
    "8. Flat Line Test: Invariant value\n",
    "\n",
    "**Suggested tests**\n",
    "\n",
    "9. Multi-Variate Test: Comparison to other variables\n",
    "10. Attenuated Signal Test: Inadequate variation test\n",
    "11. Neighbor Test: Comparison to nearby sensors of the same variable\n",
    "12. TS Curve/Space Test: Comparison to expected TS relationship\n",
    "13. Density Inversion Test: Checks that density increases with pressure (depth)\n",
    "\n",
    "MOODA contains functionalities to perform some of the tests proposed by QUARTOD. The QC tests implemented in MOODA are as follows:\n",
    "\n",
    "* [Syntax test](https://github.com/rbardaji/mooda/blob/master/docs/api_reference/waterframe/qc/qc_syntax_test.md): We can complete the *1st* of the QUARTOD tests. It checks whether the object data contains all the QC columns required to pass the rest of the tests. *Note: This function is not yet implemented in the current \"release\" version. To use it, you need to use MOODA with the source code.*\n",
    "* [Range test](https://github.com/rbardaji/mooda/blob/master/docs/api_reference/waterframe/qc/qc_range_test.md): Flag out-of-range values. With the range test, we can perform the *1st*, *4th* and *5th* of the QUARTOD tests. The QUARTOD test *3* is also a range test on the position data. The sample dataset does not contain position columns so this test is not applicable.\n",
    "* [Spike test](https://github.com/rbardaji/mooda/blob/master/docs/api_reference/waterframe/qc/qc_spike_test.md): We can complete the *6th* of the QUARTOD tests. The QUARTOD test *7* could be understood as a spike test with a lower threshold.\n",
    "* [Flat test](https://github.com/rbardaji/mooda/blob/master/docs/api_reference/waterframe/qc/qc_flat_test.md): We can perform the *8th* of the QUARTOD tests.\n",
    "\n",
    "QUARTOD test number *9*, *10*, *11*, *12* and *13* need to be developed with MOODA.\n",
    "\n",
    "The following script uses the [test_qc.pkl](https://github.com/rbardaji/mooda/blob/master/docs/examples/data/test_qc.pkl) dataset, generated with the example [Create a waterframe with fake data to evaluate the Quality Control Tests](https://github.com/rbardaji/mooda/blob/master/docs/examples/fake_waterframe.md). The dataset contains water temperature values (TEMP parameter) and has not yet passed any quality control tests, so all indicators are at 0 (all TEMP_QC values are 0).\n",
    "\n",
    "The script will *flag* the values **without QC** with a **0**, values that have passed **OK** the tests correctly with a **1**, and values that have passed **KO** the test with a **4**.\n",
    "\n",
    "Note that MOODA QC test only flags values that have not passed the test, leaving the \"good values\" with the original indicator. For this reason, it is recommended that initially all QC values be at 0, make the tests, and finally use the WaterFrame.replace() method to replace values that are still at 0, to 1.\n",
    "\n",
    "The script first declares some configuration variables for the tests and then defines the function *show_results()*, which creates the graphs to analyze the results. Subsequently, the main code begins, where the dataset is opened, and QC tests are performed."
   ]
  },
  {
   "cell_type": "markdown",
   "metadata": {},
   "source": [
    "## 1. Function to show results"
   ]
  },
  {
   "cell_type": "code",
   "execution_count": null,
   "metadata": {},
   "outputs": [],
   "source": [
    "def show_result(wf, chart_title=''):\n",
    "    # Change name of flags\n",
    "    wf2 = wf.copy()\n",
    "    qc_labels = {0: 'No QC', 1: 'Good data', 4: 'Bad data'}\n",
    "    wf2.data['TEMP_QC'].replace(qc_labels, inplace=True)\n",
    "\n",
    "    fig = wf2.iplot_line(\n",
    "        'TEMP',\n",
    "        color='TEMP_QC',\n",
    "        marginal_y=None,\n",
    "        line_shape='linear',\n",
    "        rangeslider_visible=False,\n",
    "        line_dash_sequence=['dot', 'dot'],\n",
    "        title=chart_title)\n",
    "    fig.show()"
   ]
  },
  {
   "cell_type": "markdown",
   "metadata": {},
   "source": [
    "## 2. Main code"
   ]
  },
  {
   "cell_type": "markdown",
   "metadata": {},
   "source": [
    "### 2.1. Imports"
   ]
  },
  {
   "cell_type": "code",
   "execution_count": null,
   "metadata": {},
   "outputs": [],
   "source": [
    "import mooda as md"
   ]
  },
  {
   "cell_type": "markdown",
   "metadata": {},
   "source": [
    "### 2.1. Open file"
   ]
  },
  {
   "cell_type": "markdown",
   "metadata": {},
   "source": [
    "#### 2.1.1. Configuration variables"
   ]
  },
  {
   "cell_type": "code",
   "execution_count": null,
   "metadata": {},
   "outputs": [],
   "source": [
    "dataset_location = r'./notebooks/Data/test_qc.pkl'"
   ]
  },
  {
   "cell_type": "markdown",
   "metadata": {},
   "source": [
    "#### 2.1.2. The code"
   ]
  },
  {
   "cell_type": "code",
   "execution_count": null,
   "metadata": {},
   "outputs": [],
   "source": [
    "wf = md.read_pkl(dataset_location)\n",
    "show_result(wf, 'Values without apply any QC test')"
   ]
  },
  {
   "cell_type": "markdown",
   "metadata": {},
   "source": [
    "### 2.2. Flat Test"
   ]
  },
  {
   "cell_type": "markdown",
   "metadata": {},
   "source": [
    "#### 2.2.1. Configuration variables"
   ]
  },
  {
   "cell_type": "code",
   "execution_count": null,
   "metadata": {},
   "outputs": [],
   "source": [
    "window_flat = 2"
   ]
  },
  {
   "cell_type": "markdown",
   "metadata": {},
   "source": [
    "#### 2.2.2. The code"
   ]
  },
  {
   "cell_type": "code",
   "execution_count": null,
   "metadata": {},
   "outputs": [],
   "source": [
    "wf.qc_flat_test()\n",
    "show_result(\n",
    "    wf, 'Values after apply the flat test. ' + \\\n",
    "        f' Configuration flat test: window = {window_flat}')"
   ]
  },
  {
   "cell_type": "markdown",
   "metadata": {},
   "source": [
    "### 2.3. Range test"
   ]
  },
  {
   "cell_type": "markdown",
   "metadata": {},
   "source": [
    "#### 2.3.1. Configuration variables"
   ]
  },
  {
   "cell_type": "code",
   "execution_count": null,
   "metadata": {},
   "outputs": [],
   "source": [
    "limits = [1, 40]"
   ]
  },
  {
   "cell_type": "markdown",
   "metadata": {},
   "source": [
    "#### 2.3.2. The code"
   ]
  },
  {
   "cell_type": "code",
   "execution_count": null,
   "metadata": {},
   "outputs": [],
   "source": [
    "wf.qc_range_test(limits=limits)\n",
    "show_result(\n",
    "    wf, 'Values after apply the flat test and the range test.' + \\\n",
    "        f'Configuration range test: limits = {limits}')"
   ]
  },
  {
   "cell_type": "markdown",
   "metadata": {},
   "source": [
    "### 2.4. Spike test"
   ]
  },
  {
   "cell_type": "markdown",
   "metadata": {},
   "source": [
    "#### 2.4.1. Configuration variables"
   ]
  },
  {
   "cell_type": "code",
   "execution_count": null,
   "metadata": {},
   "outputs": [],
   "source": [
    "window_spike = 100\n",
    "threshold = 3.5\n",
    "influence = 0.5"
   ]
  },
  {
   "cell_type": "markdown",
   "metadata": {},
   "source": [
    "#### 2.4.2. The code"
   ]
  },
  {
   "cell_type": "code",
   "execution_count": null,
   "metadata": {},
   "outputs": [],
   "source": [
    "wf.qc_spike_test(window=window_spike, influence=influence, threshold=threshold)\n",
    "show_result(\n",
    "    wf, 'Values after apply the flat test, the range test and the spike test.' + \\\n",
    "        f' Configuration spike test: window = {window_spike}, influence = {influence}, ' + \\\n",
    "        f'threshold = {threshold}')"
   ]
  },
  {
   "cell_type": "markdown",
   "metadata": {},
   "source": [
    "### 2.5. Replaces the QC values that are still 0, to 1"
   ]
  },
  {
   "cell_type": "code",
   "execution_count": null,
   "metadata": {},
   "outputs": [],
   "source": [
    "wf.qc_replace()\n",
    "show_result(wf, f'Final result')"
   ]
  }
 ],
 "metadata": {
  "kernelspec": {
   "display_name": "Python 3",
   "language": "python",
   "name": "python3"
  },
  "language_info": {
   "codemirror_mode": {
    "name": "ipython",
    "version": 3
   },
   "file_extension": ".py",
   "mimetype": "text/x-python",
   "name": "python",
   "nbconvert_exporter": "python",
   "pygments_lexer": "ipython3",
   "version": "3.8.1"
  }
 },
 "nbformat": 4,
 "nbformat_minor": 4
}