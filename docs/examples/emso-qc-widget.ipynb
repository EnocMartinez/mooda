{
 "metadata": {
  "language_info": {
   "codemirror_mode": {
    "name": "ipython",
    "version": 3
   },
   "file_extension": ".py",
   "mimetype": "text/x-python",
   "name": "python",
   "nbconvert_exporter": "python",
   "pygments_lexer": "ipython3",
   "version": "3.8.4-final"
  },
  "orig_nbformat": 2,
  "kernelspec": {
   "name": "python3",
   "display_name": "Python 3",
   "language": "python"
  }
 },
 "nbformat": 4,
 "nbformat_minor": 2,
 "cells": [
  {
   "source": [
    "# How to download EMSO data and perform QC data tests with a Jupyter Notebook Widget"
   ],
   "cell_type": "markdown",
   "metadata": {}
  },
  {
   "source": [
    "This widget is developed with [mooda.widget_emso()](https://github.com/rbardaji/mooda/blob/master/docs/examples/emso-widget.md) and [mooda.widget_qc()](https://github.com/rbardaji/mooda/blob/master/docs/examples/qc-widget.md)."
   ],
   "cell_type": "markdown",
   "metadata": {}
  },
  {
   "cell_type": "code",
   "execution_count": null,
   "metadata": {},
   "outputs": [],
   "source": [
    "import mooda as md\n",
    "\n",
    "# Write here the user and password of the EMSO ERIC API\n",
    "user_api = ''\n",
    "password_api= ''\n",
    "# or write the API token\n",
    "token_api = ''\n",
    "\n",
    "wf = md.WaterFrame()\n",
    "\n",
    "gui = md.widget_emso_qc(wf, user=user_api, password=password_api, token=token_api)\n",
    "gui"
   ]
  },
  {
   "source": [
    "Now, we can save the WaterFrame in a file."
   ],
   "cell_type": "markdown",
   "metadata": {}
  },
  {
   "cell_type": "code",
   "execution_count": null,
   "metadata": {},
   "outputs": [],
   "source": [
    "gui_save = md.widget_save(wf)\n",
    "gui_save"
   ]
  },
  {
   "cell_type": "code",
   "execution_count": null,
   "metadata": {},
   "outputs": [],
   "source": []
  }
 ]
}