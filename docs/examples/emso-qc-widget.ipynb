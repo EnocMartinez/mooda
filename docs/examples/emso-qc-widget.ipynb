{
 "metadata": {
  "language_info": {
   "codemirror_mode": {
    "name": "ipython",
    "version": 3
   },
   "file_extension": ".py",
   "mimetype": "text/x-python",
   "name": "python",
   "nbconvert_exporter": "python",
   "pygments_lexer": "ipython3",
   "version": "3.8.4-final"
  },
  "orig_nbformat": 2,
  "kernelspec": {
   "name": "python3",
   "display_name": "Python 3.8.4 64-bit ('mooda': venv)",
   "metadata": {
    "interpreter": {
     "hash": "cb2a3c8591c60b0757d891c7750e0f890d26ffa86099fc7324a562c43fb7be34"
    }
   }
  }
 },
 "nbformat": 4,
 "nbformat_minor": 2,
 "cells": [
  {
   "source": [
    "# How to download EMSO data and perform QC data tests with a Jupyter Notebook Widget"
   ],
   "cell_type": "markdown",
   "metadata": {}
  },
  {
   "source": [
    "Este widget es la combinación de los widgets [mooda.widget_emso()](https://github.com/rbardaji/mooda/blob/master/docs/examples/emso-widget.md) y [mooda.widget_qc()](https://github.com/rbardaji/mooda/blob/master/docs/examples/qc-widget.md)."
   ],
   "cell_type": "markdown",
   "metadata": {}
  },
  {
   "cell_type": "code",
   "execution_count": null,
   "metadata": {},
   "outputs": [],
   "source": [
    "import mooda as md\n",
    "\n",
    "wf = md.WaterFrame()\n",
    "\n",
    "gui = md.widget_emso_qc(wf)\n",
    "gui"
   ]
  },
  {
   "cell_type": "code",
   "execution_count": null,
   "metadata": {},
   "outputs": [],
   "source": []
  }
 ]
}