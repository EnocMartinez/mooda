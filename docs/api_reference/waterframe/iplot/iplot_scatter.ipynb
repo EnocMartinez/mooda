{
 "metadata": {
  "language_info": {
   "codemirror_mode": {
    "name": "ipython",
    "version": 3
   },
   "file_extension": ".py",
   "mimetype": "text/x-python",
   "name": "python",
   "nbconvert_exporter": "python",
   "pygments_lexer": "ipython3",
   "version": "3.8.4-final"
  },
  "orig_nbformat": 2,
  "kernelspec": {
   "name": "Python 3.8.4 64-bit ('mooda': venv)",
   "display_name": "Python 3.8.4 64-bit ('mooda': venv)",
   "metadata": {
    "interpreter": {
     "hash": "cb2a3c8591c60b0757d891c7750e0f890d26ffa86099fc7324a562c43fb7be34"
    }
   }
  }
 },
 "nbformat": 4,
 "nbformat_minor": 2,
 "cells": [
  {
   "source": [
    "# wf.iplot_scatter(*y*, *x*=*'TIME'*, *trendline*=*None*, *marginal_x*=*None*, *marginal_y*=*'histogram'*, *color*=*'auto'*, *symbol*=*'DEPTH'*, *range_y*=*'auto'*, ***kwds*)"
   ],
   "cell_type": "markdown",
   "metadata": {}
  },
  {
   "source": [
    "## Reference\n",
    "\n",
    "### Parameters\n",
    "\n",
    "* y: Y axis, column or index of data. (str)\n",
    "* x: X axis, column or index of data. (str)\n",
    "* trendline: (str)\n",
    "  * Options:\n",
    "    * None\n",
    "    * 'ols': Ordinary Least Squares regression line will be drawn for each discrete-color/symbol group.\n",
    "    * 'ols_np': Ordinary Least Squares regression line will be drawn for each discrete-color/symbol group. Line generated with numpy.polyfit with all values of y axes.\n",
    "    * 'lowess': Locally Weighted Scatterplot Smoothing line will be drawn for each discrete-color/symbol group.\n",
    "* marginal_x: If set, a horizontal subplot is drawn above the main plot, visualizing the x-distribution. (str)\n",
    "  * Options:\n",
    "    * None\n",
    "    * 'rug'\n",
    "    * 'box'\n",
    "    * 'violin'\n",
    "    * 'histogram'\n",
    "* marginal_y: If set, a horizontal subplot is drawn above the main plot, visualizing the y-distribution. (str)\n",
    "  * Options:\n",
    "    * None\n",
    "    * 'rug'\n",
    "    * 'box'\n",
    "    * 'violin'\n",
    "    * 'histogram'\n",
    "* color: Name of a column or index of data. Values from this column are used to assign color to marks. (str)\n",
    "  * If color = 'auto', color = QC column of *y*.\n",
    "* symbol: Name of a column or index of data. Values from this column are used to assign symbols to marks. (str)\n",
    "* range_y: \\[min value, max value\\] of y axes. (list)\n",
    "  * If range_y = 'auto', range is generated between the min and max values of y axes +- 5%.\n",
    "* **kwds: Plotly express scatter keywords. (keywords)\n",
    "\n",
    "### Returns\n",
    "\n",
    "* fig: (plotly.graph_objects.Figure)\n"
   ],
   "cell_type": "markdown",
   "metadata": {}
  },
  {
   "source": [
    "## Example\n",
    "\n",
    "To reproduce the example, download the NetCDF file [MO_TS_MO_OBSEA_201402.nc](http://data.emso.eu/files/emso/obsea/mo/ts/2014/MO_TS_MO_OBSEA_201402.nc)."
   ],
   "cell_type": "markdown",
   "metadata": {}
  },
  {
   "cell_type": "code",
   "execution_count": 1,
   "metadata": {},
   "outputs": [],
   "source": [
    "import sys\n",
    "sys.path.insert(0, r'C:\\Users\\rbard\\Insync\\bardaji@utm.csic.es\\Google Drive\\mooda')"
   ]
  },
  {
   "cell_type": "code",
   "execution_count": 2,
   "metadata": {},
   "outputs": [
    {
     "output_type": "display_data",
     "data": {
      "application/vnd.plotly.v1+json": {
       "config": {
        "plotlyServerURL": "https://plot.ly"
       },
       "data": [
        {
         "hovertemplate": "TEMP_QC=1.0<br>DEPTH=21.0<br>TIME=%{x}<br>TEMP=%{y}<extra></extra>",
         "legendgroup": "1.0, 21.0",
         "marker": {
          "color": "#636efa",
          "symbol": "circle"
         },
         "mode": "markers",
         "name": "1.0, 21.0",
         "orientation": "v",
         "showlegend": true,
         "type": "scatter",
         "x": [
          "2014-02-05T04:00:00",
          "2014-02-05T05:00:00",
          "2014-02-05T06:00:00",
          "2014-02-05T07:00:00",
          "2014-02-05T08:00:00",
          "2014-02-05T14:00:00",
          "2014-02-05T15:00:00",
          "2014-02-05T16:00:00",
          "2014-02-05T17:00:00",
          "2014-02-05T18:00:00",
          "2014-02-05T19:00:00",
          "2014-02-05T20:00:00",
          "2014-02-05T21:00:00",
          "2014-02-05T22:00:00",
          "2014-02-05T23:00:00",
          "2014-02-06T00:00:00",
          "2014-02-06T01:00:00",
          "2014-02-06T02:00:00",
          "2014-02-06T03:00:00",
          "2014-02-06T04:00:00",
          "2014-02-06T05:00:00",
          "2014-02-06T06:00:00",
          "2014-02-06T07:00:00",
          "2014-02-06T08:00:00",
          "2014-02-06T09:00:00",
          "2014-02-06T10:00:00",
          "2014-02-06T11:00:00",
          "2014-02-06T12:00:00",
          "2014-02-06T13:00:00",
          "2014-02-06T14:00:00",
          "2014-02-06T15:00:00",
          "2014-02-06T16:00:00",
          "2014-02-06T17:00:00",
          "2014-02-06T18:00:00",
          "2014-02-06T19:00:00",
          "2014-02-06T20:00:00",
          "2014-02-06T21:00:00",
          "2014-02-06T22:00:00",
          "2014-02-06T23:00:00",
          "2014-02-07T00:00:00",
          "2014-02-07T01:00:00",
          "2014-02-07T02:00:00",
          "2014-02-07T03:00:00",
          "2014-02-07T04:00:00",
          "2014-02-07T05:00:00",
          "2014-02-07T06:00:00",
          "2014-02-07T07:00:00",
          "2014-02-07T08:00:00",
          "2014-02-07T09:00:00",
          "2014-02-07T10:00:00"
         ],
         "xaxis": "x",
         "y": [
          13.520000642165542,
          13.520000642165542,
          13.500000641215593,
          13.470000639790669,
          13.45000063884072,
          13.430000637890771,
          13.45000063884072,
          13.460000639315695,
          13.460000639315695,
          13.440000638365746,
          13.440000638365746,
          13.430000637890771,
          13.420000637415797,
          13.420000637415797,
          13.410000636940822,
          13.400000636465847,
          13.380000635515898,
          13.380000635515898,
          13.370000635040924,
          13.36000063456595,
          13.36000063456595,
          13.36000063456595,
          13.36000063456595,
          13.370000635040924,
          13.380000635515898,
          13.400000636465847,
          13.410000636940822,
          13.420000637415797,
          13.430000637890771,
          13.45000063884072,
          13.45000063884072,
          13.45000063884072,
          13.45000063884072,
          13.45000063884072,
          13.45000063884072,
          13.440000638365746,
          13.430000637890771,
          13.420000637415797,
          13.400000636465847,
          13.390000635990873,
          13.380000635515898,
          13.380000635515898,
          13.380000635515898,
          13.380000635515898,
          13.370000635040924,
          13.370000635040924,
          13.380000635515898,
          13.380000635515898,
          13.390000635990873,
          13.430000637890771
         ],
         "yaxis": "y"
        },
        {
         "alignmentgroup": "True",
         "bingroup": "y",
         "hovertemplate": "TEMP_QC=1.0<br>DEPTH=21.0<br>TEMP=%{y}<br>count=%{x}<extra></extra>",
         "legendgroup": "1.0, 21.0",
         "marker": {
          "color": "#636efa"
         },
         "name": "1.0, 21.0",
         "offsetgroup": "1.0, 21.0",
         "opacity": 0.5,
         "showlegend": false,
         "type": "histogram",
         "xaxis": "x2",
         "y": [
          13.520000642165542,
          13.520000642165542,
          13.500000641215593,
          13.470000639790669,
          13.45000063884072,
          13.430000637890771,
          13.45000063884072,
          13.460000639315695,
          13.460000639315695,
          13.440000638365746,
          13.440000638365746,
          13.430000637890771,
          13.420000637415797,
          13.420000637415797,
          13.410000636940822,
          13.400000636465847,
          13.380000635515898,
          13.380000635515898,
          13.370000635040924,
          13.36000063456595,
          13.36000063456595,
          13.36000063456595,
          13.36000063456595,
          13.370000635040924,
          13.380000635515898,
          13.400000636465847,
          13.410000636940822,
          13.420000637415797,
          13.430000637890771,
          13.45000063884072,
          13.45000063884072,
          13.45000063884072,
          13.45000063884072,
          13.45000063884072,
          13.45000063884072,
          13.440000638365746,
          13.430000637890771,
          13.420000637415797,
          13.400000636465847,
          13.390000635990873,
          13.380000635515898,
          13.380000635515898,
          13.380000635515898,
          13.380000635515898,
          13.370000635040924,
          13.370000635040924,
          13.380000635515898,
          13.380000635515898,
          13.390000635990873,
          13.430000637890771
         ],
         "yaxis": "y2"
        }
       ],
       "layout": {
        "barmode": "overlay",
        "legend": {
         "title": {
          "text": "TEMP_QC, DEPTH"
         },
         "tracegroupgap": 0
        },
        "margin": {
         "t": 60
        },
        "template": {
         "data": {
          "bar": [
           {
            "error_x": {
             "color": "#2a3f5f"
            },
            "error_y": {
             "color": "#2a3f5f"
            },
            "marker": {
             "line": {
              "color": "#E5ECF6",
              "width": 0.5
             }
            },
            "type": "bar"
           }
          ],
          "barpolar": [
           {
            "marker": {
             "line": {
              "color": "#E5ECF6",
              "width": 0.5
             }
            },
            "type": "barpolar"
           }
          ],
          "carpet": [
           {
            "aaxis": {
             "endlinecolor": "#2a3f5f",
             "gridcolor": "white",
             "linecolor": "white",
             "minorgridcolor": "white",
             "startlinecolor": "#2a3f5f"
            },
            "baxis": {
             "endlinecolor": "#2a3f5f",
             "gridcolor": "white",
             "linecolor": "white",
             "minorgridcolor": "white",
             "startlinecolor": "#2a3f5f"
            },
            "type": "carpet"
           }
          ],
          "choropleth": [
           {
            "colorbar": {
             "outlinewidth": 0,
             "ticks": ""
            },
            "type": "choropleth"
           }
          ],
          "contour": [
           {
            "colorbar": {
             "outlinewidth": 0,
             "ticks": ""
            },
            "colorscale": [
             [
              0,
              "#0d0887"
             ],
             [
              0.1111111111111111,
              "#46039f"
             ],
             [
              0.2222222222222222,
              "#7201a8"
             ],
             [
              0.3333333333333333,
              "#9c179e"
             ],
             [
              0.4444444444444444,
              "#bd3786"
             ],
             [
              0.5555555555555556,
              "#d8576b"
             ],
             [
              0.6666666666666666,
              "#ed7953"
             ],
             [
              0.7777777777777778,
              "#fb9f3a"
             ],
             [
              0.8888888888888888,
              "#fdca26"
             ],
             [
              1,
              "#f0f921"
             ]
            ],
            "type": "contour"
           }
          ],
          "contourcarpet": [
           {
            "colorbar": {
             "outlinewidth": 0,
             "ticks": ""
            },
            "type": "contourcarpet"
           }
          ],
          "heatmap": [
           {
            "colorbar": {
             "outlinewidth": 0,
             "ticks": ""
            },
            "colorscale": [
             [
              0,
              "#0d0887"
             ],
             [
              0.1111111111111111,
              "#46039f"
             ],
             [
              0.2222222222222222,
              "#7201a8"
             ],
             [
              0.3333333333333333,
              "#9c179e"
             ],
             [
              0.4444444444444444,
              "#bd3786"
             ],
             [
              0.5555555555555556,
              "#d8576b"
             ],
             [
              0.6666666666666666,
              "#ed7953"
             ],
             [
              0.7777777777777778,
              "#fb9f3a"
             ],
             [
              0.8888888888888888,
              "#fdca26"
             ],
             [
              1,
              "#f0f921"
             ]
            ],
            "type": "heatmap"
           }
          ],
          "heatmapgl": [
           {
            "colorbar": {
             "outlinewidth": 0,
             "ticks": ""
            },
            "colorscale": [
             [
              0,
              "#0d0887"
             ],
             [
              0.1111111111111111,
              "#46039f"
             ],
             [
              0.2222222222222222,
              "#7201a8"
             ],
             [
              0.3333333333333333,
              "#9c179e"
             ],
             [
              0.4444444444444444,
              "#bd3786"
             ],
             [
              0.5555555555555556,
              "#d8576b"
             ],
             [
              0.6666666666666666,
              "#ed7953"
             ],
             [
              0.7777777777777778,
              "#fb9f3a"
             ],
             [
              0.8888888888888888,
              "#fdca26"
             ],
             [
              1,
              "#f0f921"
             ]
            ],
            "type": "heatmapgl"
           }
          ],
          "histogram": [
           {
            "marker": {
             "colorbar": {
              "outlinewidth": 0,
              "ticks": ""
             }
            },
            "type": "histogram"
           }
          ],
          "histogram2d": [
           {
            "colorbar": {
             "outlinewidth": 0,
             "ticks": ""
            },
            "colorscale": [
             [
              0,
              "#0d0887"
             ],
             [
              0.1111111111111111,
              "#46039f"
             ],
             [
              0.2222222222222222,
              "#7201a8"
             ],
             [
              0.3333333333333333,
              "#9c179e"
             ],
             [
              0.4444444444444444,
              "#bd3786"
             ],
             [
              0.5555555555555556,
              "#d8576b"
             ],
             [
              0.6666666666666666,
              "#ed7953"
             ],
             [
              0.7777777777777778,
              "#fb9f3a"
             ],
             [
              0.8888888888888888,
              "#fdca26"
             ],
             [
              1,
              "#f0f921"
             ]
            ],
            "type": "histogram2d"
           }
          ],
          "histogram2dcontour": [
           {
            "colorbar": {
             "outlinewidth": 0,
             "ticks": ""
            },
            "colorscale": [
             [
              0,
              "#0d0887"
             ],
             [
              0.1111111111111111,
              "#46039f"
             ],
             [
              0.2222222222222222,
              "#7201a8"
             ],
             [
              0.3333333333333333,
              "#9c179e"
             ],
             [
              0.4444444444444444,
              "#bd3786"
             ],
             [
              0.5555555555555556,
              "#d8576b"
             ],
             [
              0.6666666666666666,
              "#ed7953"
             ],
             [
              0.7777777777777778,
              "#fb9f3a"
             ],
             [
              0.8888888888888888,
              "#fdca26"
             ],
             [
              1,
              "#f0f921"
             ]
            ],
            "type": "histogram2dcontour"
           }
          ],
          "mesh3d": [
           {
            "colorbar": {
             "outlinewidth": 0,
             "ticks": ""
            },
            "type": "mesh3d"
           }
          ],
          "parcoords": [
           {
            "line": {
             "colorbar": {
              "outlinewidth": 0,
              "ticks": ""
             }
            },
            "type": "parcoords"
           }
          ],
          "pie": [
           {
            "automargin": true,
            "type": "pie"
           }
          ],
          "scatter": [
           {
            "marker": {
             "colorbar": {
              "outlinewidth": 0,
              "ticks": ""
             }
            },
            "type": "scatter"
           }
          ],
          "scatter3d": [
           {
            "line": {
             "colorbar": {
              "outlinewidth": 0,
              "ticks": ""
             }
            },
            "marker": {
             "colorbar": {
              "outlinewidth": 0,
              "ticks": ""
             }
            },
            "type": "scatter3d"
           }
          ],
          "scattercarpet": [
           {
            "marker": {
             "colorbar": {
              "outlinewidth": 0,
              "ticks": ""
             }
            },
            "type": "scattercarpet"
           }
          ],
          "scattergeo": [
           {
            "marker": {
             "colorbar": {
              "outlinewidth": 0,
              "ticks": ""
             }
            },
            "type": "scattergeo"
           }
          ],
          "scattergl": [
           {
            "marker": {
             "colorbar": {
              "outlinewidth": 0,
              "ticks": ""
             }
            },
            "type": "scattergl"
           }
          ],
          "scattermapbox": [
           {
            "marker": {
             "colorbar": {
              "outlinewidth": 0,
              "ticks": ""
             }
            },
            "type": "scattermapbox"
           }
          ],
          "scatterpolar": [
           {
            "marker": {
             "colorbar": {
              "outlinewidth": 0,
              "ticks": ""
             }
            },
            "type": "scatterpolar"
           }
          ],
          "scatterpolargl": [
           {
            "marker": {
             "colorbar": {
              "outlinewidth": 0,
              "ticks": ""
             }
            },
            "type": "scatterpolargl"
           }
          ],
          "scatterternary": [
           {
            "marker": {
             "colorbar": {
              "outlinewidth": 0,
              "ticks": ""
             }
            },
            "type": "scatterternary"
           }
          ],
          "surface": [
           {
            "colorbar": {
             "outlinewidth": 0,
             "ticks": ""
            },
            "colorscale": [
             [
              0,
              "#0d0887"
             ],
             [
              0.1111111111111111,
              "#46039f"
             ],
             [
              0.2222222222222222,
              "#7201a8"
             ],
             [
              0.3333333333333333,
              "#9c179e"
             ],
             [
              0.4444444444444444,
              "#bd3786"
             ],
             [
              0.5555555555555556,
              "#d8576b"
             ],
             [
              0.6666666666666666,
              "#ed7953"
             ],
             [
              0.7777777777777778,
              "#fb9f3a"
             ],
             [
              0.8888888888888888,
              "#fdca26"
             ],
             [
              1,
              "#f0f921"
             ]
            ],
            "type": "surface"
           }
          ],
          "table": [
           {
            "cells": {
             "fill": {
              "color": "#EBF0F8"
             },
             "line": {
              "color": "white"
             }
            },
            "header": {
             "fill": {
              "color": "#C8D4E3"
             },
             "line": {
              "color": "white"
             }
            },
            "type": "table"
           }
          ]
         },
         "layout": {
          "annotationdefaults": {
           "arrowcolor": "#2a3f5f",
           "arrowhead": 0,
           "arrowwidth": 1
          },
          "coloraxis": {
           "colorbar": {
            "outlinewidth": 0,
            "ticks": ""
           }
          },
          "colorscale": {
           "diverging": [
            [
             0,
             "#8e0152"
            ],
            [
             0.1,
             "#c51b7d"
            ],
            [
             0.2,
             "#de77ae"
            ],
            [
             0.3,
             "#f1b6da"
            ],
            [
             0.4,
             "#fde0ef"
            ],
            [
             0.5,
             "#f7f7f7"
            ],
            [
             0.6,
             "#e6f5d0"
            ],
            [
             0.7,
             "#b8e186"
            ],
            [
             0.8,
             "#7fbc41"
            ],
            [
             0.9,
             "#4d9221"
            ],
            [
             1,
             "#276419"
            ]
           ],
           "sequential": [
            [
             0,
             "#0d0887"
            ],
            [
             0.1111111111111111,
             "#46039f"
            ],
            [
             0.2222222222222222,
             "#7201a8"
            ],
            [
             0.3333333333333333,
             "#9c179e"
            ],
            [
             0.4444444444444444,
             "#bd3786"
            ],
            [
             0.5555555555555556,
             "#d8576b"
            ],
            [
             0.6666666666666666,
             "#ed7953"
            ],
            [
             0.7777777777777778,
             "#fb9f3a"
            ],
            [
             0.8888888888888888,
             "#fdca26"
            ],
            [
             1,
             "#f0f921"
            ]
           ],
           "sequentialminus": [
            [
             0,
             "#0d0887"
            ],
            [
             0.1111111111111111,
             "#46039f"
            ],
            [
             0.2222222222222222,
             "#7201a8"
            ],
            [
             0.3333333333333333,
             "#9c179e"
            ],
            [
             0.4444444444444444,
             "#bd3786"
            ],
            [
             0.5555555555555556,
             "#d8576b"
            ],
            [
             0.6666666666666666,
             "#ed7953"
            ],
            [
             0.7777777777777778,
             "#fb9f3a"
            ],
            [
             0.8888888888888888,
             "#fdca26"
            ],
            [
             1,
             "#f0f921"
            ]
           ]
          },
          "colorway": [
           "#636efa",
           "#EF553B",
           "#00cc96",
           "#ab63fa",
           "#FFA15A",
           "#19d3f3",
           "#FF6692",
           "#B6E880",
           "#FF97FF",
           "#FECB52"
          ],
          "font": {
           "color": "#2a3f5f"
          },
          "geo": {
           "bgcolor": "white",
           "lakecolor": "white",
           "landcolor": "#E5ECF6",
           "showlakes": true,
           "showland": true,
           "subunitcolor": "white"
          },
          "hoverlabel": {
           "align": "left"
          },
          "hovermode": "closest",
          "mapbox": {
           "style": "light"
          },
          "paper_bgcolor": "white",
          "plot_bgcolor": "#E5ECF6",
          "polar": {
           "angularaxis": {
            "gridcolor": "white",
            "linecolor": "white",
            "ticks": ""
           },
           "bgcolor": "#E5ECF6",
           "radialaxis": {
            "gridcolor": "white",
            "linecolor": "white",
            "ticks": ""
           }
          },
          "scene": {
           "xaxis": {
            "backgroundcolor": "#E5ECF6",
            "gridcolor": "white",
            "gridwidth": 2,
            "linecolor": "white",
            "showbackground": true,
            "ticks": "",
            "zerolinecolor": "white"
           },
           "yaxis": {
            "backgroundcolor": "#E5ECF6",
            "gridcolor": "white",
            "gridwidth": 2,
            "linecolor": "white",
            "showbackground": true,
            "ticks": "",
            "zerolinecolor": "white"
           },
           "zaxis": {
            "backgroundcolor": "#E5ECF6",
            "gridcolor": "white",
            "gridwidth": 2,
            "linecolor": "white",
            "showbackground": true,
            "ticks": "",
            "zerolinecolor": "white"
           }
          },
          "shapedefaults": {
           "line": {
            "color": "#2a3f5f"
           }
          },
          "ternary": {
           "aaxis": {
            "gridcolor": "white",
            "linecolor": "white",
            "ticks": ""
           },
           "baxis": {
            "gridcolor": "white",
            "linecolor": "white",
            "ticks": ""
           },
           "bgcolor": "#E5ECF6",
           "caxis": {
            "gridcolor": "white",
            "linecolor": "white",
            "ticks": ""
           }
          },
          "title": {
           "x": 0.05
          },
          "xaxis": {
           "automargin": true,
           "gridcolor": "white",
           "linecolor": "white",
           "ticks": "",
           "title": {
            "standoff": 15
           },
           "zerolinecolor": "white",
           "zerolinewidth": 2
          },
          "yaxis": {
           "automargin": true,
           "gridcolor": "white",
           "linecolor": "white",
           "ticks": "",
           "title": {
            "standoff": 15
           },
           "zerolinecolor": "white",
           "zerolinewidth": 2
          }
         }
        },
        "xaxis": {
         "anchor": "y",
         "domain": [
          0,
          0.7363
         ],
         "title": {
          "text": "TIME"
         }
        },
        "xaxis2": {
         "anchor": "y2",
         "domain": [
          0.7413,
          1
         ],
         "matches": "x2",
         "showgrid": true,
         "showline": false,
         "showticklabels": false,
         "ticks": ""
        },
        "yaxis": {
         "anchor": "x",
         "domain": [
          0,
          1
         ],
         "range": [
          null,
          null
         ],
         "title": {
          "text": "TEMP"
         }
        },
        "yaxis2": {
         "anchor": "x2",
         "domain": [
          0,
          1
         ],
         "matches": "y",
         "showgrid": true,
         "showticklabels": false
        }
       }
      }
     },
     "metadata": {}
    }
   ],
   "source": [
    "import mooda as md\n",
    "\n",
    "path_netcdf = \"MO_TS_MO_OBSEA_201402.nc\"  # Path of the NetCDF file\n",
    "wf = md.read_nc_emodnet(path_netcdf)\n",
    "\n",
    "fig = wf.iplot_scatter('TEMP', marginal_y='histogram')\n",
    "fig.show()"
   ]
  },
  {
   "source": [
    "Return to [mooda.WaterFrame](../waterframe.md)."
   ],
   "cell_type": "markdown",
   "metadata": {}
  }
 ]
}