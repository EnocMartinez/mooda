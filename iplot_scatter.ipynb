{
 "metadata": {
  "language_info": {
   "codemirror_mode": {
    "name": "ipython",
    "version": 3
   },
   "file_extension": ".py",
   "mimetype": "text/x-python",
   "name": "python",
   "nbconvert_exporter": "python",
   "pygments_lexer": "ipython3",
   "version": "3.8.4-final"
  },
  "orig_nbformat": 2,
  "kernelspec": {
   "name": "Python 3.8.4 64-bit ('mooda': venv)",
   "display_name": "Python 3.8.4 64-bit ('mooda': venv)",
   "metadata": {
    "interpreter": {
     "hash": "cb2a3c8591c60b0757d891c7750e0f890d26ffa86099fc7324a562c43fb7be34"
    }
   }
  }
 },
 "nbformat": 4,
 "nbformat_minor": 2,
 "cells": [
  {
   "source": [
    "# wf.iplot_scatter(*y*, *x*=*'TIME'*, *trendline*=*None*, *marginal_x*=*None*, *marginal_y*=*'histogram'*, *color*=*'auto'*, *symbol*=*'DEPTH'*, *range_y*=*'auto'*, ***kwds*)"
   ],
   "cell_type": "markdown",
   "metadata": {}
  },
  {
   "source": [
    "## Reference\n",
    "\n",
    "### Parameters\n",
    "\n",
    "* y: Y axis, column or index of data. (str)\n",
    "* x: X axis, column or index of data. (str)\n",
    "* trendline: (str)\n",
    "  * Options:\n",
    "    * None\n",
    "    * 'ols': Ordinary Least Squares regression line will be drawn for each discrete-color/symbol group.\n",
    "    * 'ols_np': Ordinary Least Squares regression line will be drawn for each discrete-color/symbol group. Line generated with numpy.polyfit with all values of y axes.\n",
    "    * 'lowess': Locally Weighted Scatterplot Smoothing line will be drawn for each discrete-color/symbol group.\n",
    "* marginal_x: If set, a horizontal subplot is drawn above the main plot, visualizing the x-distribution. (str)\n",
    "  * Options:\n",
    "    * None\n",
    "    * 'rug'\n",
    "    * 'box'\n",
    "    * 'violin'\n",
    "    * 'histogram'\n",
    "* marginal_y: If set, a horizontal subplot is drawn above the main plot, visualizing the y-distribution. (str)\n",
    "  * Options:\n",
    "    * None\n",
    "    * 'rug'\n",
    "    * 'box'\n",
    "    * 'violin'\n",
    "    * 'histogram'\n",
    "* color: Name of a column or index of data. Values from this column are used to assign color to marks. (str)\n",
    "  * If color = 'auto', color = QC column of *y*.\n",
    "* symbol: Name of a column or index of data. Values from this column are used to assign symbols to marks. (str)\n",
    "* range_y: \\[min value, max value\\] of y axes. (list)\n",
    "  * If range_y = 'auto', range is generated between the min and max values of y axes +- 5%.\n",
    "* **kwds: Plotly express scatter keywords. (keywords)\n",
    "\n",
    "### Returns\n",
    "\n",
    "* fig: (plotly.graph_objects.Figure)\n"
   ],
   "cell_type": "markdown",
   "metadata": {}
  },
  {
   "source": [
    "## Example\n",
    "\n",
    "To reproduce the example, download the NetCDF file [MO_TS_MO_OBSEA_201402.nc](http://data.emso.eu/files/emso/obsea/mo/ts/2014/MO_TS_MO_OBSEA_201402.nc)."
   ],
   "cell_type": "markdown",
   "metadata": {}
  },
  {
   "source": [
    "import mooda as md\n",
    "\n",
    "path_netcdf = \"MO_TS_MO_OBSEA_201402.nc\"  # Path of the NetCDF file\n",
    "wf = md.read_nc_emodnet(path_netcdf)\n",
    "\n",
    "fig = wf.iplot_scatter('TEMP', marginal_y='histogram')\n",
    "fig.show()"
   ],
   "cell_type": "code",
   "metadata": {},
   "execution_count": null,
   "outputs": []
  },
  {
   "source": [
    "*Note: The output of this script is an interactive graph that cannot be played back in the GitHub environment. To get the interactive chart, download and run this notebook on your computer. Below you will find the chart exported to png.*\n",
    "\n",
    "![iplot_scatter-example](../img_waterframe/iplot_scatter-example.png)"
   ],
   "cell_type": "markdown",
   "metadata": {}
  },
  {
   "source": [
    "Return to [mooda.WaterFrame](../waterframe.md)."
   ],
   "cell_type": "markdown",
   "metadata": {}
  }
 ]
}